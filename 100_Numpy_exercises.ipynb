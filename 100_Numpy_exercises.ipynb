{
 "cells": [
  {
   "cell_type": "markdown",
   "id": "ad1d1330",
   "metadata": {},
   "source": [
    "# 100 numpy exercises\n",
    "\n",
    "This is a collection of exercises that have been collected in the numpy mailing list, on stack overflow\n",
    "and in the numpy documentation. The goal of this collection is to offer a quick reference for both old\n",
    "and new users but also to provide a set of exercises for those who teach.\n",
    "\n",
    "\n",
    "If you find an error or think you've a better way to solve some of them, feel\n",
    "free to open an issue at <https://github.com/rougier/numpy-100>."
   ]
  },
  {
   "cell_type": "markdown",
   "id": "1d620162",
   "metadata": {},
   "source": [
    "File automatically generated. See the documentation to update questions/answers/hints programmatically."
   ]
  },
  {
   "cell_type": "markdown",
   "id": "8574d627",
   "metadata": {},
   "source": [
    "Run the `initialize.py` module, then for each question you can query the\n",
    "answer or an hint with `hint(n)` or `answer(n)` for `n` question number."
   ]
  },
  {
   "cell_type": "code",
   "execution_count": 1,
   "id": "c6fe8a29",
   "metadata": {},
   "outputs": [],
   "source": [
    "#%run initialise.py"
   ]
  },
  {
   "cell_type": "markdown",
   "id": "954c5d8f",
   "metadata": {},
   "source": [
    "#### 1. Import the numpy package under the name `np` (★☆☆)"
   ]
  },
  {
   "cell_type": "code",
   "execution_count": 2,
   "id": "4006c08e",
   "metadata": {},
   "outputs": [],
   "source": [
    "import numpy as np"
   ]
  },
  {
   "cell_type": "markdown",
   "id": "88e34f09",
   "metadata": {},
   "source": [
    "#### 2. Print the numpy version and the configuration (★☆☆)"
   ]
  },
  {
   "cell_type": "code",
   "execution_count": 3,
   "id": "b1122a25",
   "metadata": {},
   "outputs": [
    {
     "name": "stdout",
     "output_type": "stream",
     "text": [
      "1.22.2\n",
      "openblas64__info:\n",
      "    library_dirs = ['D:\\\\a\\\\1\\\\s\\\\numpy\\\\build\\\\openblas64__info']\n",
      "    libraries = ['openblas64__info']\n",
      "    language = f77\n",
      "    define_macros = [('HAVE_CBLAS', None), ('BLAS_SYMBOL_SUFFIX', '64_'), ('HAVE_BLAS_ILP64', None)]\n",
      "blas_ilp64_opt_info:\n",
      "    library_dirs = ['D:\\\\a\\\\1\\\\s\\\\numpy\\\\build\\\\openblas64__info']\n",
      "    libraries = ['openblas64__info']\n",
      "    language = f77\n",
      "    define_macros = [('HAVE_CBLAS', None), ('BLAS_SYMBOL_SUFFIX', '64_'), ('HAVE_BLAS_ILP64', None)]\n",
      "openblas64__lapack_info:\n",
      "    library_dirs = ['D:\\\\a\\\\1\\\\s\\\\numpy\\\\build\\\\openblas64__lapack_info']\n",
      "    libraries = ['openblas64__lapack_info']\n",
      "    language = f77\n",
      "    define_macros = [('HAVE_CBLAS', None), ('BLAS_SYMBOL_SUFFIX', '64_'), ('HAVE_BLAS_ILP64', None), ('HAVE_LAPACKE', None)]\n",
      "lapack_ilp64_opt_info:\n",
      "    library_dirs = ['D:\\\\a\\\\1\\\\s\\\\numpy\\\\build\\\\openblas64__lapack_info']\n",
      "    libraries = ['openblas64__lapack_info']\n",
      "    language = f77\n",
      "    define_macros = [('HAVE_CBLAS', None), ('BLAS_SYMBOL_SUFFIX', '64_'), ('HAVE_BLAS_ILP64', None), ('HAVE_LAPACKE', None)]\n",
      "Supported SIMD extensions in this NumPy install:\n",
      "    baseline = SSE,SSE2,SSE3\n",
      "    found = SSSE3,SSE41,POPCNT,SSE42,AVX,F16C,FMA3,AVX2\n",
      "    not found = AVX512F,AVX512CD,AVX512_SKX,AVX512_CLX,AVX512_CNL\n"
     ]
    }
   ],
   "source": [
    "print(np.__version__)\n",
    "np.show_config()"
   ]
  },
  {
   "cell_type": "markdown",
   "id": "37c21848",
   "metadata": {},
   "source": [
    "#### 3. Create a null vector of size 10 (★☆☆)"
   ]
  },
  {
   "cell_type": "code",
   "execution_count": 4,
   "metadata": {},
   "outputs": [
    {
     "data": {
      "text/plain": [
       "array([0., 0., 0., 0., 0., 0., 0., 0., 0., 0.])"
      ]
     },
     "execution_count": 4,
     "metadata": {},
     "output_type": "execute_result"
    }
   ],
   "source": [
    "a = np.zeros(10)\n",
    "a"
   ]
  },
  {
   "cell_type": "code",
   "execution_count": null,
   "id": "e090a462",
   "metadata": {},
   "outputs": [],
   "source": []
  },
  {
   "cell_type": "markdown",
   "id": "7c0e6add",
   "metadata": {},
   "source": [
    "#### 4. How to find the memory size of any array (★☆☆)"
   ]
  },
  {
   "cell_type": "code",
   "execution_count": 5,
   "id": "8c96715d",
   "metadata": {},
   "outputs": [
    {
     "data": {
      "text/plain": [
       "80"
      ]
     },
     "execution_count": 5,
     "metadata": {},
     "output_type": "execute_result"
    }
   ],
   "source": [
    "a.size * a.itemsize"
   ]
  },
  {
   "cell_type": "markdown",
   "id": "4cf547db",
   "metadata": {},
   "source": [
    "#### 5. How to get the documentation of the numpy add function from the command line? (★☆☆)"
   ]
  },
  {
   "cell_type": "code",
   "execution_count": 6,
   "id": "2a24a1e9",
   "metadata": {},
   "outputs": [
    {
     "name": "stdout",
     "output_type": "stream",
     "text": [
      "add(x1, x2, /, out=None, *, where=True, casting='same_kind', order='K', dtype=None, subok=True[, signature, extobj])\n",
      "\n",
      "Add arguments element-wise.\n",
      "\n",
      "Parameters\n",
      "----------\n",
      "x1, x2 : array_like\n",
      "    The arrays to be added.\n",
      "    If ``x1.shape != x2.shape``, they must be broadcastable to a common\n",
      "    shape (which becomes the shape of the output).\n",
      "out : ndarray, None, or tuple of ndarray and None, optional\n",
      "    A location into which the result is stored. If provided, it must have\n",
      "    a shape that the inputs broadcast to. If not provided or None,\n",
      "    a freshly-allocated array is returned. A tuple (possible only as a\n",
      "    keyword argument) must have length equal to the number of outputs.\n",
      "where : array_like, optional\n",
      "    This condition is broadcast over the input. At locations where the\n",
      "    condition is True, the `out` array will be set to the ufunc result.\n",
      "    Elsewhere, the `out` array will retain its original value.\n",
      "    Note that if an uninitialized `out` array is created via the default\n",
      "    ``out=None``, locations within it where the condition is False will\n",
      "    remain uninitialized.\n",
      "**kwargs\n",
      "    For other keyword-only arguments, see the\n",
      "    :ref:`ufunc docs <ufuncs.kwargs>`.\n",
      "\n",
      "Returns\n",
      "-------\n",
      "add : ndarray or scalar\n",
      "    The sum of `x1` and `x2`, element-wise.\n",
      "    This is a scalar if both `x1` and `x2` are scalars.\n",
      "\n",
      "Notes\n",
      "-----\n",
      "Equivalent to `x1` + `x2` in terms of array broadcasting.\n",
      "\n",
      "Examples\n",
      "--------\n",
      ">>> np.add(1.0, 4.0)\n",
      "5.0\n",
      ">>> x1 = np.arange(9.0).reshape((3, 3))\n",
      ">>> x2 = np.arange(3.0)\n",
      ">>> np.add(x1, x2)\n",
      "array([[  0.,   2.,   4.],\n",
      "       [  3.,   5.,   7.],\n",
      "       [  6.,   8.,  10.]])\n",
      "\n",
      "The ``+`` operator can be used as a shorthand for ``np.add`` on ndarrays.\n",
      "\n",
      ">>> x1 = np.arange(9.0).reshape((3, 3))\n",
      ">>> x2 = np.arange(3.0)\n",
      ">>> x1 + x2\n",
      "array([[ 0.,  2.,  4.],\n",
      "       [ 3.,  5.,  7.],\n",
      "       [ 6.,  8., 10.]])\n"
     ]
    }
   ],
   "source": [
    "np.info(np.add)"
   ]
  },
  {
   "cell_type": "markdown",
   "id": "bf6679c3",
   "metadata": {},
   "source": [
    "#### 6. Create a null vector of size 10 but the fifth value which is 1 (★☆☆)"
   ]
  },
  {
   "cell_type": "code",
   "execution_count": 7,
   "id": "f4cd59b6",
   "metadata": {},
   "outputs": [
    {
     "data": {
      "text/plain": [
       "array([0., 0., 0., 0., 1., 0., 0., 0., 0., 0.])"
      ]
     },
     "execution_count": 7,
     "metadata": {},
     "output_type": "execute_result"
    }
   ],
   "source": [
    "a = np.zeros(10)\n",
    "a[4] = 1\n",
    "a"
   ]
  },
  {
   "cell_type": "markdown",
   "id": "022451fb",
   "metadata": {},
   "source": [
    "#### 7. Create a vector with values ranging from 10 to 49 (★☆☆)"
   ]
  },
  {
   "cell_type": "code",
   "execution_count": 8,
   "id": "22c2f0a8",
   "metadata": {},
   "outputs": [
    {
     "data": {
      "text/plain": [
       "array([10, 11, 12, 13, 14, 15, 16, 17, 18, 19, 20, 21, 22, 23, 24, 25, 26,\n",
       "       27, 28, 29, 30, 31, 32, 33, 34, 35, 36, 37, 38, 39, 40, 41, 42, 43,\n",
       "       44, 45, 46, 47, 48, 49])"
      ]
     },
     "execution_count": 8,
     "metadata": {},
     "output_type": "execute_result"
    }
   ],
   "source": [
    "a = np.arange(10, 50)\n",
    "a"
   ]
  },
  {
   "cell_type": "markdown",
   "id": "aca8f6ee",
   "metadata": {},
   "source": [
    "#### 8. Reverse a vector (first element becomes last) (★☆☆)"
   ]
  },
  {
   "cell_type": "code",
   "execution_count": 9,
   "id": "15f37616",
   "metadata": {},
   "outputs": [
    {
     "name": "stdout",
     "output_type": "stream",
     "text": [
      "[10 11 12 13 14 15 16 17 18 19 20 21 22 23 24 25 26 27 28 29 30 31 32 33\n",
      " 34 35 36 37 38 39 40 41 42 43 44 45 46 47 48 49]\n",
      "[49 48 47 46 45 44 43 42 41 40 39 38 37 36 35 34 33 32 31 30 29 28 27 26\n",
      " 25 24 23 22 21 20 19 18 17 16 15 14 13 12 11 10]\n"
     ]
    }
   ],
   "source": [
    "print(a)\n",
    "a = a[::-1]\n",
    "print(a)"
   ]
  },
  {
   "cell_type": "markdown",
   "id": "97bfddd4",
   "metadata": {},
   "source": [
    "#### 9. Create a 3x3 matrix with values ranging from 0 to 8 (★☆☆)"
   ]
  },
  {
   "cell_type": "code",
   "execution_count": 10,
   "id": "8b93d83c",
   "metadata": {},
   "outputs": [
    {
     "data": {
      "text/plain": [
       "array([[0, 1, 2],\n",
       "       [3, 4, 5],\n",
       "       [6, 7, 8]])"
      ]
     },
     "execution_count": 10,
     "metadata": {},
     "output_type": "execute_result"
    }
   ],
   "source": [
    "a = np.arange(9).reshape(3, 3)\n",
    "a"
   ]
  },
  {
   "cell_type": "markdown",
   "id": "a073dad0",
   "metadata": {},
   "source": [
    "#### 10. Find indices of non-zero elements from [1,2,0,0,4,0] (★☆☆)"
   ]
  },
  {
   "cell_type": "code",
   "execution_count": 11,
   "id": "c21fb91c",
   "metadata": {},
   "outputs": [
    {
     "data": {
      "text/plain": [
       "array([1, 2, 4])"
      ]
     },
     "execution_count": 11,
     "metadata": {},
     "output_type": "execute_result"
    }
   ],
   "source": [
    "a = np.array([1,2,0,0,4,0])\n",
    "a[a.nonzero()]"
   ]
  },
  {
   "cell_type": "markdown",
   "id": "82b9a7a0",
   "metadata": {},
   "source": [
    "#### 11. Create a 3x3 identity matrix (★☆☆)"
   ]
  },
  {
   "cell_type": "code",
   "execution_count": 12,
   "id": "7ce1325a",
   "metadata": {},
   "outputs": [
    {
     "data": {
      "text/plain": [
       "array([[1., 0., 0.],\n",
       "       [0., 1., 0.],\n",
       "       [0., 0., 1.]])"
      ]
     },
     "execution_count": 12,
     "metadata": {},
     "output_type": "execute_result"
    }
   ],
   "source": [
    "a = np.eye(3)\n",
    "a"
   ]
  },
  {
   "cell_type": "markdown",
   "id": "0e6364d3",
   "metadata": {},
   "source": [
    "#### 12. Create a 3x3x3 array with random values (★☆☆)"
   ]
  },
  {
   "cell_type": "code",
   "execution_count": 13,
   "id": "8139c1c8",
   "metadata": {},
   "outputs": [
    {
     "data": {
      "text/plain": [
       "array([[[0.29445862, 0.89471569, 0.58349405],\n",
       "        [0.42835233, 0.78524573, 0.68213395],\n",
       "        [0.09717869, 0.47188944, 0.96998034]],\n",
       "\n",
       "       [[0.2638822 , 0.55448658, 0.26569054],\n",
       "        [0.32901776, 0.42950635, 0.96306076],\n",
       "        [0.65184606, 0.32205238, 0.55359089]],\n",
       "\n",
       "       [[0.66047618, 0.76147121, 0.52393463],\n",
       "        [0.39010005, 0.03864939, 0.66503128],\n",
       "        [0.10630807, 0.39921126, 0.71344774]]])"
      ]
     },
     "execution_count": 13,
     "metadata": {},
     "output_type": "execute_result"
    }
   ],
   "source": [
    "a = np.random.random((3,3,3))\n",
    "a"
   ]
  },
  {
   "cell_type": "markdown",
   "id": "49ef36a6",
   "metadata": {},
   "source": [
    "#### 13. Create a 10x10 array with random values and find the minimum and maximum values (★☆☆)"
   ]
  },
  {
   "cell_type": "code",
   "execution_count": 14,
   "id": "5b4c73c7",
   "metadata": {},
   "outputs": [
    {
     "name": "stdout",
     "output_type": "stream",
     "text": [
      "[[0.22375153 0.5911721  0.80649878 0.99560761 0.69357329 0.17362482\n",
      "  0.50050112 0.36440401 0.63052986 0.29511585]\n",
      " [0.8352538  0.31880421 0.93978955 0.12601719 0.38498872 0.74244804\n",
      "  0.62064865 0.89847147 0.38201672 0.53224947]\n",
      " [0.98453982 0.59668126 0.03789111 0.66659991 0.40585907 0.51817306\n",
      "  0.4964466  0.20015253 0.02603879 0.82529107]\n",
      " [0.0727499  0.02771237 0.87077756 0.95337541 0.07273307 0.72000752\n",
      "  0.53268136 0.02092969 0.79841927 0.33105099]\n",
      " [0.25501863 0.1456915  0.87724827 0.88580771 0.68890923 0.84309075\n",
      "  0.08330589 0.88709756 0.50769805 0.91942368]\n",
      " [0.64050165 0.95135687 0.7399649  0.71431794 0.92969301 0.12245342\n",
      "  0.96535398 0.80624288 0.60637426 0.65631581]\n",
      " [0.56832965 0.4836826  0.63615245 0.36635242 0.1719278  0.85562087\n",
      "  0.76019493 0.03692121 0.7349573  0.03383796]\n",
      " [0.39567005 0.39109146 0.78161964 0.46095983 0.79138208 0.39130113\n",
      "  0.26251953 0.94547924 0.50841554 0.44475238]\n",
      " [0.31338509 0.24468756 0.81228645 0.59071611 0.41913959 0.69983775\n",
      "  0.84017059 0.29674387 0.50358048 0.43362639]\n",
      " [0.46458635 0.82552036 0.27891286 0.71415642 0.55656166 0.90382434\n",
      "  0.00706236 0.8894922  0.94889539 0.69199649]]\n",
      "Min is 0.00706235631072627\n",
      "Max is 0.9956076131104602\n"
     ]
    }
   ],
   "source": [
    "a = np.random.random((10, 10))\n",
    "print(a)\n",
    "print('Min is', a.min())\n",
    "print('Max is', a.max())"
   ]
  },
  {
   "cell_type": "markdown",
   "id": "625eb243",
   "metadata": {},
   "source": [
    "#### 14. Create a random vector of size 30 and find the mean value (★☆☆)"
   ]
  },
  {
   "cell_type": "code",
   "execution_count": 15,
   "id": "ba7b8300",
   "metadata": {},
   "outputs": [
    {
     "name": "stdout",
     "output_type": "stream",
     "text": [
      "[0.80554331 0.6957608  0.43080685 0.2410271  0.38386339 0.11796036\n",
      " 0.69946944 0.71642398 0.58335988 0.27736019 0.63892107 0.35160387\n",
      " 0.04982723 0.37675913 0.06188932 0.91689578 0.67180702 0.97086742\n",
      " 0.64815886 0.11276194 0.48677203 0.13427118 0.65915443 0.95013038\n",
      " 0.38941904 0.14050855 0.10394864 0.17950661 0.20946244 0.44861032]\n"
     ]
    },
    {
     "data": {
      "text/plain": [
       "0.44842835171647405"
      ]
     },
     "execution_count": 15,
     "metadata": {},
     "output_type": "execute_result"
    }
   ],
   "source": [
    "a = np.random.random((30))\n",
    "print(a)\n",
    "a.mean()"
   ]
  },
  {
   "cell_type": "markdown",
   "id": "19540b2f",
   "metadata": {},
   "source": [
    "#### 15. Create a 2d array with 1 on the border and 0 inside (★☆☆)"
   ]
  },
  {
   "cell_type": "code",
   "execution_count": 16,
   "id": "19e78d2c",
   "metadata": {},
   "outputs": [
    {
     "data": {
      "text/plain": [
       "array([[1., 1., 1., 1., 1., 1., 1., 1., 1., 1.],\n",
       "       [1., 0., 0., 0., 0., 0., 0., 0., 0., 1.],\n",
       "       [1., 0., 0., 0., 0., 0., 0., 0., 0., 1.],\n",
       "       [1., 0., 0., 0., 0., 0., 0., 0., 0., 1.],\n",
       "       [1., 0., 0., 0., 0., 0., 0., 0., 0., 1.],\n",
       "       [1., 0., 0., 0., 0., 0., 0., 0., 0., 1.],\n",
       "       [1., 0., 0., 0., 0., 0., 0., 0., 0., 1.],\n",
       "       [1., 0., 0., 0., 0., 0., 0., 0., 0., 1.],\n",
       "       [1., 0., 0., 0., 0., 0., 0., 0., 0., 1.],\n",
       "       [1., 1., 1., 1., 1., 1., 1., 1., 1., 1.]])"
      ]
     },
     "execution_count": 16,
     "metadata": {},
     "output_type": "execute_result"
    }
   ],
   "source": [
    "a = np.ones((10, 10))\n",
    "a[1:-1, 1:-1] = 0\n",
    "a"
   ]
  },
  {
   "cell_type": "markdown",
   "id": "3f0fe171",
   "metadata": {},
   "source": [
    "#### 16. How to add a border (filled with 0's) around an existing array? (★☆☆)"
   ]
  },
  {
   "cell_type": "code",
   "execution_count": 17,
   "id": "662a99b4",
   "metadata": {},
   "outputs": [
    {
     "data": {
      "text/plain": [
       "array([[0., 0., 0., 0., 0.],\n",
       "       [0., 1., 1., 1., 0.],\n",
       "       [0., 1., 1., 1., 0.],\n",
       "       [0., 1., 1., 1., 0.],\n",
       "       [0., 0., 0., 0., 0.]])"
      ]
     },
     "execution_count": 17,
     "metadata": {},
     "output_type": "execute_result"
    }
   ],
   "source": [
    "a = np.ones((3, 3))\n",
    "a = np.pad(a, pad_width=1, mode='constant', constant_values=0)\n",
    "a"
   ]
  },
  {
   "cell_type": "markdown",
   "id": "0464c4af",
   "metadata": {},
   "source": [
    "#### 17. What is the result of the following expression? (★☆☆)\n",
    "```python\n",
    "0 * np.nan\n",
    "np.nan == np.nan\n",
    "np.inf > np.nan\n",
    "np.nan - np.nan\n",
    "np.nan in set([np.nan])\n",
    "0.3 == 3 * 0.1\n",
    "```"
   ]
  },
  {
   "cell_type": "code",
   "execution_count": 18,
   "id": "18926a29",
   "metadata": {},
   "outputs": [
    {
     "name": "stdout",
     "output_type": "stream",
     "text": [
      "nan\n",
      "False\n",
      "False\n",
      "nan\n",
      "True\n",
      "False\n"
     ]
    }
   ],
   "source": [
    "print(0 * np.nan)\n",
    "print(np.nan == np.nan)\n",
    "print(np.inf > np.nan)\n",
    "print(np.nan - np.nan)\n",
    "print(np.nan in set([np.nan]))\n",
    "print(0.3 == 3 * 0.1)"
   ]
  },
  {
   "cell_type": "markdown",
   "id": "afb90e8b",
   "metadata": {},
   "source": [
    "#### 18. Create a 5x5 matrix with values 1,2,3,4 just below the diagonal (★☆☆)"
   ]
  },
  {
   "cell_type": "code",
   "execution_count": 19,
   "id": "8a988102",
   "metadata": {},
   "outputs": [
    {
     "data": {
      "text/plain": [
       "array([[0, 0, 0, 0, 0],\n",
       "       [1, 0, 0, 0, 0],\n",
       "       [0, 2, 0, 0, 0],\n",
       "       [0, 0, 3, 0, 0],\n",
       "       [0, 0, 0, 4, 0]])"
      ]
     },
     "execution_count": 19,
     "metadata": {},
     "output_type": "execute_result"
    }
   ],
   "source": [
    "a = np.diag([1,2,3,4], k=-1)\n",
    "a"
   ]
  },
  {
   "cell_type": "markdown",
   "id": "ca611f9e",
   "metadata": {},
   "source": [
    "#### 19. Create a 8x8 matrix and fill it with a checkerboard pattern (★☆☆)"
   ]
  },
  {
   "cell_type": "code",
   "execution_count": 20,
   "id": "24049fc7",
   "metadata": {},
   "outputs": [
    {
     "data": {
      "text/plain": [
       "array([[0., 1., 0., 1., 0., 1., 0., 1.],\n",
       "       [1., 0., 1., 0., 1., 0., 1., 0.],\n",
       "       [0., 1., 0., 1., 0., 1., 0., 1.],\n",
       "       [1., 0., 1., 0., 1., 0., 1., 0.],\n",
       "       [0., 1., 0., 1., 0., 1., 0., 1.],\n",
       "       [1., 0., 1., 0., 1., 0., 1., 0.],\n",
       "       [0., 1., 0., 1., 0., 1., 0., 1.],\n",
       "       [1., 0., 1., 0., 1., 0., 1., 0.]])"
      ]
     },
     "execution_count": 20,
     "metadata": {},
     "output_type": "execute_result"
    }
   ],
   "source": [
    "a = np.zeros((8,8))\n",
    "a[1::2,::2] = 1\n",
    "a[::2,1::2] = 1\n",
    "a"
   ]
  },
  {
   "cell_type": "markdown",
   "id": "9b77f7af",
   "metadata": {},
   "source": [
    "#### 20. Consider a (6,7,8) shape array, what is the index (x,y,z) of the 100th element? (★☆☆)"
   ]
  },
  {
   "cell_type": "code",
   "execution_count": 21,
   "id": "402efd68",
   "metadata": {},
   "outputs": [
    {
     "data": {
      "text/plain": [
       "(1, 5, 3)"
      ]
     },
     "execution_count": 21,
     "metadata": {},
     "output_type": "execute_result"
    }
   ],
   "source": [
    "np.unravel_index(99,(6,7,8))"
   ]
  },
  {
   "cell_type": "markdown",
   "id": "07e399b8",
   "metadata": {},
   "source": [
    "#### 21. Create a checkerboard 8x8 matrix using the tile function (★☆☆)"
   ]
  },
  {
   "cell_type": "code",
   "execution_count": 22,
   "id": "867964a9",
   "metadata": {},
   "outputs": [
    {
     "data": {
      "text/plain": [
       "array([[0, 1, 0, 1, 0, 1, 0, 1],\n",
       "       [1, 0, 1, 0, 1, 0, 1, 0],\n",
       "       [0, 1, 0, 1, 0, 1, 0, 1],\n",
       "       [1, 0, 1, 0, 1, 0, 1, 0],\n",
       "       [0, 1, 0, 1, 0, 1, 0, 1],\n",
       "       [1, 0, 1, 0, 1, 0, 1, 0],\n",
       "       [0, 1, 0, 1, 0, 1, 0, 1],\n",
       "       [1, 0, 1, 0, 1, 0, 1, 0]])"
      ]
     },
     "execution_count": 22,
     "metadata": {},
     "output_type": "execute_result"
    }
   ],
   "source": [
    "a = np.tile(np.array([[0,1], [1,0]]), (4,4))\n",
    "a"
   ]
  },
  {
   "cell_type": "markdown",
   "id": "bc92d88a",
   "metadata": {},
   "source": [
    "#### 22. Normalize a 5x5 random matrix (★☆☆)"
   ]
  },
  {
   "cell_type": "code",
   "execution_count": 23,
   "id": "a3709496",
   "metadata": {},
   "outputs": [
    {
     "name": "stdout",
     "output_type": "stream",
     "text": [
      "[[0.58120142 0.31824558 0.90092515 0.11538659 0.56818956]\n",
      " [0.3542125  0.11446863 0.22874771 0.57568822 0.1411187 ]\n",
      " [0.6199302  0.60645392 0.08679216 0.55440276 0.44962088]\n",
      " [0.28976484 0.06656638 0.09637923 0.42625568 0.27966837]\n",
      " [0.82965502 0.64922208 0.94770726 0.29900163 0.26130886]]\n"
     ]
    },
    {
     "data": {
      "text/plain": [
       "array([[ 0.18926018, -0.10916637,  0.55211219, -0.33938947,  0.17449313],\n",
       "       [-0.0683478 , -0.34043126, -0.21073682,  0.1830033 , -0.31018631],\n",
       "       [ 0.23321318,  0.21791906, -0.37184108,  0.1588466 ,  0.03993045],\n",
       "       [-0.14148894, -0.39479516, -0.36096079,  0.01341345, -0.15294735],\n",
       "       [ 0.47122826,  0.26645631,  0.60520484, -0.13100619, -0.17378342]])"
      ]
     },
     "execution_count": 23,
     "metadata": {},
     "output_type": "execute_result"
    }
   ],
   "source": [
    "a = np.random.random((5, 5))\n",
    "print(a)\n",
    "a = (a - a.mean())/(a.max()-a.min())\n",
    "a"
   ]
  },
  {
   "cell_type": "markdown",
   "id": "9e2fd8ce",
   "metadata": {},
   "source": [
    "#### 23. Create a custom dtype that describes a color as four unsigned bytes (RGBA) (★☆☆)"
   ]
  },
  {
   "cell_type": "code",
   "execution_count": 24,
   "id": "5881b2b5",
   "metadata": {},
   "outputs": [
    {
     "data": {
      "text/plain": [
       "dtype([('r', 'u1'), ('g', 'u1'), ('b', 'u1'), ('a', 'u1')])"
      ]
     },
     "execution_count": 24,
     "metadata": {},
     "output_type": "execute_result"
    }
   ],
   "source": [
    "RGBA = np.dtype([(\"r\", np.ubyte),\n",
    "                  (\"g\", np.ubyte),\n",
    "                  (\"b\", np.ubyte),\n",
    "                  (\"a\", np.ubyte)])\n",
    "RGBA"
   ]
  },
  {
   "cell_type": "markdown",
   "id": "d6904ab9",
   "metadata": {},
   "source": [
    "#### 24. Multiply a 5x3 matrix by a 3x2 matrix (real matrix product) (★☆☆)"
   ]
  },
  {
   "cell_type": "code",
   "execution_count": 25,
   "id": "cb3b6528",
   "metadata": {},
   "outputs": [
    {
     "data": {
      "text/plain": [
       "array([[ 4066.01609397,  6223.62674559],\n",
       "       [ 3328.95542961,  7380.80011521],\n",
       "       [ 4351.10089331, 10138.1358448 ],\n",
       "       [ 2631.24674012,  7219.07435731],\n",
       "       [ 2528.97342719,  8821.15949221]])"
      ]
     },
     "execution_count": 25,
     "metadata": {},
     "output_type": "execute_result"
    }
   ],
   "source": [
    "a = 100 * np.random.random((5, 3))\n",
    "b = 100 * np.random.random((3, 2))\n",
    "a @ b"
   ]
  },
  {
   "cell_type": "markdown",
   "id": "c57116dd",
   "metadata": {},
   "source": [
    "#### 25. Given a 1D array, negate all elements which are between 3 and 8, in place. (★☆☆)"
   ]
  },
  {
   "cell_type": "code",
   "execution_count": 26,
   "id": "4fbf1b1e",
   "metadata": {},
   "outputs": [
    {
     "data": {
      "text/plain": [
       "array([ 0,  1,  2, -3, -4, -5, -6, -7, -8,  9, 10, 11, 12, 13, 14, 15, 16,\n",
       "       17, 18, 19])"
      ]
     },
     "execution_count": 26,
     "metadata": {},
     "output_type": "execute_result"
    }
   ],
   "source": [
    "a = np.arange(20)\n",
    "a[3:9] = a[3:9] * (-1)\n",
    "a"
   ]
  },
  {
   "cell_type": "markdown",
   "id": "52707d61",
   "metadata": {},
   "source": [
    "#### 26. What is the output of the following script? (★☆☆)\n",
    "```python\n",
    "# Author: Jake VanderPlas\n",
    "\n",
    "print(sum(range(5),-1))\n",
    "from numpy import *\n",
    "print(sum(range(5),-1))\n",
    "```"
   ]
  },
  {
   "cell_type": "code",
   "execution_count": 27,
   "id": "18a238e6",
   "metadata": {},
   "outputs": [
    {
     "name": "stdout",
     "output_type": "stream",
     "text": [
      "9\n",
      "10\n"
     ]
    }
   ],
   "source": [
    "print(sum(range(5),-1))\n",
    "from numpy import *\n",
    "print(sum(range(5),-1))"
   ]
  },
  {
   "cell_type": "markdown",
   "id": "5ab377fd",
   "metadata": {},
   "source": [
    "#### 27. Consider an integer vector Z, which of these expressions are legal? (★☆☆)\n",
    "```python\n",
    "Z**Z\n",
    "2 << Z >> 2\n",
    "Z <- Z\n",
    "1j*Z\n",
    "Z/1/1\n",
    "Z<Z>Z\n",
    "```"
   ]
  },
  {
   "cell_type": "code",
   "execution_count": 96,
   "id": "36cc66a9",
   "metadata": {},
   "outputs": [
    {
     "name": "stdout",
     "output_type": "stream",
     "text": [
      "[        1         1         4        27       256      3125     46656\n",
      "    823543  16777216 387420489]\n",
      "[  0   1   2   4   8  16  32  64 128 256]\n",
      "[False False False False False False False False False False]\n",
      "[0.+0.j 0.+1.j 0.+2.j 0.+3.j 0.+4.j 0.+5.j 0.+6.j 0.+7.j 0.+8.j 0.+9.j]\n",
      "[0. 1. 2. 3. 4. 5. 6. 7. 8. 9.]\n"
     ]
    },
    {
     "ename": "ValueError",
     "evalue": "The truth value of an array with more than one element is ambiguous. Use a.any() or a.all()",
     "output_type": "error",
     "traceback": [
      "\u001b[1;31m---------------------------------------------------------------------------\u001b[0m",
      "\u001b[1;31mValueError\u001b[0m                                Traceback (most recent call last)",
      "\u001b[1;32mc:\\Users\\t041l\\Downloads\\numpy-100-master\\100_Numpy_exercises.ipynb Cell 59\u001b[0m in \u001b[0;36m<module>\u001b[1;34m\u001b[0m\n\u001b[0;32m      <a href='vscode-notebook-cell:/c%3A/Users/t041l/Downloads/numpy-100-master/100_Numpy_exercises.ipynb#Y112sZmlsZQ%3D%3D?line=4'>5</a>\u001b[0m \u001b[39mprint\u001b[39m(\u001b[39m1\u001b[39mj\u001b[39m*\u001b[39mZ)\n\u001b[0;32m      <a href='vscode-notebook-cell:/c%3A/Users/t041l/Downloads/numpy-100-master/100_Numpy_exercises.ipynb#Y112sZmlsZQ%3D%3D?line=5'>6</a>\u001b[0m \u001b[39mprint\u001b[39m(Z\u001b[39m/\u001b[39m\u001b[39m1\u001b[39m\u001b[39m/\u001b[39m\u001b[39m1\u001b[39m)\n\u001b[1;32m----> <a href='vscode-notebook-cell:/c%3A/Users/t041l/Downloads/numpy-100-master/100_Numpy_exercises.ipynb#Y112sZmlsZQ%3D%3D?line=6'>7</a>\u001b[0m \u001b[39mprint\u001b[39m(Z\u001b[39m<\u001b[39mZ\u001b[39m>\u001b[39mZ)\n",
      "\u001b[1;31mValueError\u001b[0m: The truth value of an array with more than one element is ambiguous. Use a.any() or a.all()"
     ]
    }
   ],
   "source": [
    "Z = np.arange(10, dtype = int)\n",
    "print(Z**Z)\n",
    "print(2 << Z >> 2)\n",
    "print(Z <- Z)\n",
    "print(1j*Z)\n",
    "print(Z/1/1)\n",
    "print(Z<Z>Z)"
   ]
  },
  {
   "cell_type": "markdown",
   "id": "654f223f",
   "metadata": {},
   "source": [
    "#### 28. What are the result of the following expressions? (★☆☆)\n",
    "```python\n",
    "np.array(0) / np.array(0)\n",
    "np.array(0) // np.array(0)\n",
    "np.array([np.nan]).astype(int).astype(float)\n",
    "```"
   ]
  },
  {
   "cell_type": "code",
   "execution_count": 29,
   "id": "6d9d3c21",
   "metadata": {},
   "outputs": [
    {
     "name": "stdout",
     "output_type": "stream",
     "text": [
      "nan\n",
      "0\n",
      "[-2.14748365e+09]\n"
     ]
    },
    {
     "name": "stderr",
     "output_type": "stream",
     "text": [
      "C:\\Users\\t041l\\AppData\\Local\\Temp\\ipykernel_7688\\3912170336.py:1: RuntimeWarning: invalid value encountered in true_divide\n",
      "  print(np.array(0) / np.array(0))\n",
      "C:\\Users\\t041l\\AppData\\Local\\Temp\\ipykernel_7688\\3912170336.py:2: RuntimeWarning: divide by zero encountered in floor_divide\n",
      "  print(np.array(0) // np.array(0))\n"
     ]
    }
   ],
   "source": [
    "print(np.array(0) / np.array(0))\n",
    "print(np.array(0) // np.array(0))\n",
    "print(np.array([np.nan]).astype(int).astype(float))"
   ]
  },
  {
   "cell_type": "markdown",
   "id": "a7e00adf",
   "metadata": {},
   "source": [
    "#### 29. How to round away from zero a float array ? (★☆☆)"
   ]
  },
  {
   "cell_type": "code",
   "execution_count": 30,
   "id": "6ee5777d",
   "metadata": {},
   "outputs": [
    {
     "data": {
      "text/plain": [
       "array([ 7.,  4.,  5.,  1.,  9., 10., 10.,  7.,  1.,  7.])"
      ]
     },
     "execution_count": 30,
     "metadata": {},
     "output_type": "execute_result"
    }
   ],
   "source": [
    "a = 10 * np.random.random(10)\n",
    "a = np.where(a>0, np.ceil(a), np.floor(a))\n",
    "a"
   ]
  },
  {
   "cell_type": "markdown",
   "id": "56be1f05",
   "metadata": {},
   "source": [
    "#### 30. How to find common values between two arrays? (★☆☆)"
   ]
  },
  {
   "cell_type": "code",
   "execution_count": 31,
   "id": "62eeedc0",
   "metadata": {},
   "outputs": [
    {
     "name": "stdout",
     "output_type": "stream",
     "text": [
      "[7 8 9]\n"
     ]
    }
   ],
   "source": [
    "a = np.arange(10)\n",
    "b = np.arange(7, 13)\n",
    "print(np.intersect1d(a,b))"
   ]
  },
  {
   "cell_type": "markdown",
   "id": "83567c5c",
   "metadata": {},
   "source": [
    "#### 31. How to ignore all numpy warnings (not recommended)? (★☆☆)"
   ]
  },
  {
   "cell_type": "code",
   "execution_count": 32,
   "id": "fa02b423",
   "metadata": {},
   "outputs": [
    {
     "data": {
      "text/plain": [
       "{'divide': 'warn', 'over': 'warn', 'under': 'ignore', 'invalid': 'warn'}"
      ]
     },
     "execution_count": 32,
     "metadata": {},
     "output_type": "execute_result"
    }
   ],
   "source": [
    "np.seterr(all=\"ignore\")"
   ]
  },
  {
   "cell_type": "markdown",
   "id": "0a7449b6",
   "metadata": {},
   "source": [
    "#### 32. Is the following expressions true? (★☆☆)\n",
    "```python\n",
    "np.sqrt(-1) == np.emath.sqrt(-1)\n",
    "```"
   ]
  },
  {
   "cell_type": "code",
   "execution_count": 33,
   "id": "69eb4456",
   "metadata": {},
   "outputs": [
    {
     "data": {
      "text/plain": [
       "False"
      ]
     },
     "execution_count": 33,
     "metadata": {},
     "output_type": "execute_result"
    }
   ],
   "source": [
    "np.sqrt(-1) == np.emath.sqrt(-1)"
   ]
  },
  {
   "cell_type": "markdown",
   "id": "9d434219",
   "metadata": {},
   "source": [
    "#### 33. How to get the dates of yesterday, today and tomorrow? (★☆☆)"
   ]
  },
  {
   "cell_type": "code",
   "execution_count": 34,
   "id": "0b192943",
   "metadata": {},
   "outputs": [
    {
     "name": "stdout",
     "output_type": "stream",
     "text": [
      "2023-04-02\n",
      "2023-04-03\n",
      "2023-04-04\n"
     ]
    }
   ],
   "source": [
    "print(np.datetime64('today') - np.timedelta64(1))\n",
    "print(np.datetime64('today'))\n",
    "print(np.datetime64('today') + np.timedelta64(1))"
   ]
  },
  {
   "cell_type": "markdown",
   "id": "b0e44339",
   "metadata": {},
   "source": [
    "#### 34. How to get all the dates corresponding to the month of July 2016? (★★☆)"
   ]
  },
  {
   "cell_type": "code",
   "execution_count": 35,
   "id": "8bf7daa6",
   "metadata": {},
   "outputs": [
    {
     "data": {
      "text/plain": [
       "array(['2016-07-01', '2016-07-02', '2016-07-03', '2016-07-04',\n",
       "       '2016-07-05', '2016-07-06', '2016-07-07', '2016-07-08',\n",
       "       '2016-07-09', '2016-07-10', '2016-07-11', '2016-07-12',\n",
       "       '2016-07-13', '2016-07-14', '2016-07-15', '2016-07-16',\n",
       "       '2016-07-17', '2016-07-18', '2016-07-19', '2016-07-20',\n",
       "       '2016-07-21', '2016-07-22', '2016-07-23', '2016-07-24',\n",
       "       '2016-07-25', '2016-07-26', '2016-07-27', '2016-07-28',\n",
       "       '2016-07-29', '2016-07-30', '2016-07-31'], dtype='datetime64[D]')"
      ]
     },
     "execution_count": 35,
     "metadata": {},
     "output_type": "execute_result"
    }
   ],
   "source": [
    "a = np.arange('2016-07', '2016-08', dtype='datetime64[D]')\n",
    "a"
   ]
  },
  {
   "cell_type": "markdown",
   "id": "f9b3c24a",
   "metadata": {},
   "source": [
    "#### 35. How to compute ((A+B)*(-A/2)) in place (without copy)? (★★☆)"
   ]
  },
  {
   "cell_type": "code",
   "execution_count": 36,
   "id": "40da18c9",
   "metadata": {},
   "outputs": [
    {
     "data": {
      "text/plain": [
       "array([-150., -150., -150., -150., -150.])"
      ]
     },
     "execution_count": 36,
     "metadata": {},
     "output_type": "execute_result"
    }
   ],
   "source": [
    "A = np.ones(5)*10\n",
    "B = np.ones(5)*20\n",
    "np.add(A,B,out=B)\n",
    "np.divide(A,2,out=A)\n",
    "np.negative(A,out=A)\n",
    "np.multiply(A,B,out=A)"
   ]
  },
  {
   "cell_type": "markdown",
   "id": "cbb64ee9",
   "metadata": {},
   "source": [
    "#### 36. Extract the integer part of a random array of positive numbers using 4 different methods (★★☆)"
   ]
  },
  {
   "cell_type": "code",
   "execution_count": 37,
   "id": "f83748bd",
   "metadata": {},
   "outputs": [
    {
     "name": "stdout",
     "output_type": "stream",
     "text": [
      "[49.90950992 17.89016522 28.20613126  1.9639186  55.69848302  2.33788124\n",
      " 81.68585541 12.34711908 55.52833168 70.5958219 ]\n",
      "[49 17 28  1 55  2 81 12 55 70]\n",
      "[49. 17. 28.  1. 55.  2. 81. 12. 55. 70.]\n",
      "[49. 17. 28.  1. 55.  2. 81. 12. 55. 70.]\n",
      "[49. 17. 28.  1. 55.  2. 81. 12. 55. 70.]\n"
     ]
    }
   ],
   "source": [
    "a = 100 * np.random.random(10)\n",
    "print(a)\n",
    "print(a.astype(int))\n",
    "print(np.floor(a))\n",
    "print(a - a%1)\n",
    "print(a // 1)"
   ]
  },
  {
   "cell_type": "markdown",
   "id": "8418e1e4",
   "metadata": {},
   "source": [
    "#### 37. Create a 5x5 matrix with row values ranging from 0 to 4 (★★☆)"
   ]
  },
  {
   "cell_type": "code",
   "execution_count": 38,
   "id": "08e726e4",
   "metadata": {},
   "outputs": [
    {
     "data": {
      "text/plain": [
       "array([[0., 1., 2., 3., 4.],\n",
       "       [0., 1., 2., 3., 4.],\n",
       "       [0., 1., 2., 3., 4.],\n",
       "       [0., 1., 2., 3., 4.],\n",
       "       [0., 1., 2., 3., 4.]])"
      ]
     },
     "execution_count": 38,
     "metadata": {},
     "output_type": "execute_result"
    }
   ],
   "source": [
    "a = np.zeros((5,5))\n",
    "a += np.arange(5)\n",
    "a"
   ]
  },
  {
   "cell_type": "markdown",
   "id": "a8420e2c",
   "metadata": {},
   "source": [
    "#### 38. Consider a generator function that generates 10 integers and use it to build an array (★☆☆)"
   ]
  },
  {
   "cell_type": "code",
   "execution_count": 39,
   "id": "c58e77ad",
   "metadata": {},
   "outputs": [
    {
     "data": {
      "text/plain": [
       "array([0, 1, 2, 3, 4, 5, 6, 7, 8, 9])"
      ]
     },
     "execution_count": 39,
     "metadata": {},
     "output_type": "execute_result"
    }
   ],
   "source": [
    "def gen_nums():\n",
    "    for i in range(10):\n",
    "        yield i\n",
    "\n",
    "a = np.fromiter(gen_nums(), dtype = int)\n",
    "a"
   ]
  },
  {
   "cell_type": "markdown",
   "id": "deab3e77",
   "metadata": {},
   "source": [
    "#### 39. Create a vector of size 10 with values ranging from 0 to 1, both excluded (★★☆)"
   ]
  },
  {
   "cell_type": "code",
   "execution_count": 40,
   "id": "2c5fafc8",
   "metadata": {},
   "outputs": [
    {
     "data": {
      "text/plain": [
       "array([0.09090909, 0.18181818, 0.27272727, 0.36363636, 0.45454545,\n",
       "       0.54545455, 0.63636364, 0.72727273, 0.81818182, 0.90909091])"
      ]
     },
     "execution_count": 40,
     "metadata": {},
     "output_type": "execute_result"
    }
   ],
   "source": [
    "a = np.linspace(0, 1, 11, endpoint=False)[1:]\n",
    "a"
   ]
  },
  {
   "cell_type": "markdown",
   "id": "5bb5de9c",
   "metadata": {},
   "source": [
    "#### 40. Create a random vector of size 10 and sort it (★★☆)"
   ]
  },
  {
   "cell_type": "code",
   "execution_count": 41,
   "id": "b9916965",
   "metadata": {},
   "outputs": [
    {
     "data": {
      "text/plain": [
       "array([0.19253256, 0.25490273, 0.29723341, 0.39333977, 0.51247781,\n",
       "       0.59153679, 0.63181657, 0.70595984, 0.85747185, 0.90455193])"
      ]
     },
     "execution_count": 41,
     "metadata": {},
     "output_type": "execute_result"
    }
   ],
   "source": [
    "a = np.random.random(10)\n",
    "a.sort()\n",
    "a"
   ]
  },
  {
   "cell_type": "markdown",
   "id": "ebc8ad64",
   "metadata": {},
   "source": [
    "#### 41. How to sum a small array faster than np.sum? (★★☆)"
   ]
  },
  {
   "cell_type": "code",
   "execution_count": 42,
   "id": "e7ac9923",
   "metadata": {},
   "outputs": [
    {
     "data": {
      "text/plain": [
       "10"
      ]
     },
     "execution_count": 42,
     "metadata": {},
     "output_type": "execute_result"
    }
   ],
   "source": [
    "a = np.arange(5)\n",
    "np.add.reduce(a)"
   ]
  },
  {
   "cell_type": "markdown",
   "id": "4abfb753",
   "metadata": {},
   "source": [
    "#### 42. Consider two random array A and B, check if they are equal (★★☆)"
   ]
  },
  {
   "cell_type": "code",
   "execution_count": 43,
   "id": "d265b5f6",
   "metadata": {},
   "outputs": [
    {
     "name": "stdout",
     "output_type": "stream",
     "text": [
      "[51 93  2 59 24 51 58 89 51 46]\n",
      "[90 48 90 53 19 45 69 52 53 72]\n"
     ]
    },
    {
     "data": {
      "text/plain": [
       "False"
      ]
     },
     "execution_count": 43,
     "metadata": {},
     "output_type": "execute_result"
    }
   ],
   "source": [
    "A = np.random.randint(0, 100, 10)\n",
    "B = np.random.randint(0, 100, 10)\n",
    "print(A)\n",
    "print(B)\n",
    "np.array_equal(A, B)"
   ]
  },
  {
   "cell_type": "markdown",
   "id": "c8fad2be",
   "metadata": {},
   "source": [
    "#### 43. Make an array immutable (read-only) (★★☆)"
   ]
  },
  {
   "cell_type": "code",
   "execution_count": 44,
   "id": "cadce095",
   "metadata": {},
   "outputs": [],
   "source": [
    "a = np.arange(0, 10)\n",
    "a.flags.writeable = False"
   ]
  },
  {
   "cell_type": "markdown",
   "id": "91b25fb1",
   "metadata": {},
   "source": [
    "#### 44. Consider a random 10x2 matrix representing cartesian coordinates, convert them to polar coordinates (★★☆)"
   ]
  },
  {
   "cell_type": "code",
   "execution_count": 45,
   "id": "3f5fb344",
   "metadata": {},
   "outputs": [
    {
     "name": "stdout",
     "output_type": "stream",
     "text": [
      "[0.47994029 0.92915649 0.80026875 0.57138669 1.1384784  1.26883032\n",
      " 0.22011709 0.54170107 0.44194243 0.83424029]\n",
      "[1.15157775 0.45324426 0.64842428 0.3723324  0.80302763 0.78995033\n",
      " 0.17633839 0.98326718 0.38137841 1.25198914]\n"
     ]
    }
   ],
   "source": [
    "matrix = np.random.random((10,2))\n",
    "X,Y = matrix[:,0], matrix[:,1]\n",
    "R = np.sqrt(X**2+Y**2)\n",
    "T = np.arctan2(Y,X)\n",
    "print(R)\n",
    "print(T)"
   ]
  },
  {
   "cell_type": "markdown",
   "id": "7e4116bc",
   "metadata": {},
   "source": [
    "#### 45. Create random vector of size 10 and replace the maximum value by 0 (★★☆)"
   ]
  },
  {
   "cell_type": "code",
   "execution_count": 46,
   "id": "b4e895f6",
   "metadata": {},
   "outputs": [
    {
     "data": {
      "text/plain": [
       "array([0.27876385, 0.3232635 , 0.88373417, 0.50555856, 0.35515693,\n",
       "       0.75157906, 0.682046  , 0.22521298, 0.9261196 , 0.        ])"
      ]
     },
     "execution_count": 46,
     "metadata": {},
     "output_type": "execute_result"
    }
   ],
   "source": [
    "a = np.random.random(10)\n",
    "a[a.argmax()] = 0\n",
    "a"
   ]
  },
  {
   "cell_type": "markdown",
   "id": "f5b68c55",
   "metadata": {},
   "source": [
    "#### 46. Create a structured array with `x` and `y` coordinates covering the [0,1]x[0,1] area (★★☆)"
   ]
  },
  {
   "cell_type": "code",
   "execution_count": 47,
   "id": "32fd3691",
   "metadata": {},
   "outputs": [
    {
     "name": "stdout",
     "output_type": "stream",
     "text": [
      "[[(0. , 0. ) (0.2, 0. ) (0.4, 0. ) (0.6, 0. ) (0.8, 0. ) (1. , 0. )]\n",
      " [(0. , 0.2) (0.2, 0.2) (0.4, 0.2) (0.6, 0.2) (0.8, 0.2) (1. , 0.2)]\n",
      " [(0. , 0.4) (0.2, 0.4) (0.4, 0.4) (0.6, 0.4) (0.8, 0.4) (1. , 0.4)]\n",
      " [(0. , 0.6) (0.2, 0.6) (0.4, 0.6) (0.6, 0.6) (0.8, 0.6) (1. , 0.6)]\n",
      " [(0. , 0.8) (0.2, 0.8) (0.4, 0.8) (0.6, 0.8) (0.8, 0.8) (1. , 0.8)]\n",
      " [(0. , 1. ) (0.2, 1. ) (0.4, 1. ) (0.6, 1. ) (0.8, 1. ) (1. , 1. )]]\n"
     ]
    }
   ],
   "source": [
    "vector = np.zeros((6,6), [('x',float),('y',float)])\n",
    "vector['x'], vector['y'] = np.meshgrid(np.linspace(0,1,6),\n",
    "                             np.linspace(0,1,6))\n",
    "print(vector)"
   ]
  },
  {
   "cell_type": "markdown",
   "id": "378bc4e9",
   "metadata": {},
   "source": [
    "#### 47. Given two arrays, X and Y, construct the Cauchy matrix C (Cij =1/(xi - yj)) (★★☆)"
   ]
  },
  {
   "cell_type": "code",
   "execution_count": 48,
   "id": "43282e51",
   "metadata": {},
   "outputs": [
    {
     "name": "stdout",
     "output_type": "stream",
     "text": [
      "[[-2.         -0.66666667 -0.4        -0.28571429 -0.22222222 -0.18181818\n",
      "  -0.15384615 -0.13333333]\n",
      " [ 2.         -2.         -0.66666667 -0.4        -0.28571429 -0.22222222\n",
      "  -0.18181818 -0.15384615]\n",
      " [ 0.66666667  2.         -2.         -0.66666667 -0.4        -0.28571429\n",
      "  -0.22222222 -0.18181818]\n",
      " [ 0.4         0.66666667  2.         -2.         -0.66666667 -0.4\n",
      "  -0.28571429 -0.22222222]\n",
      " [ 0.28571429  0.4         0.66666667  2.         -2.         -0.66666667\n",
      "  -0.4        -0.28571429]\n",
      " [ 0.22222222  0.28571429  0.4         0.66666667  2.         -2.\n",
      "  -0.66666667 -0.4       ]\n",
      " [ 0.18181818  0.22222222  0.28571429  0.4         0.66666667  2.\n",
      "  -2.         -0.66666667]\n",
      " [ 0.15384615  0.18181818  0.22222222  0.28571429  0.4         0.66666667\n",
      "   2.         -2.        ]]\n"
     ]
    }
   ],
   "source": [
    "X = np.arange(8)\n",
    "Y = X + 0.5\n",
    "C = 1.0 / np.subtract.outer(X, Y)\n",
    "print(C)"
   ]
  },
  {
   "cell_type": "markdown",
   "id": "7f45d2f9",
   "metadata": {},
   "source": [
    "#### 48. Print the minimum and maximum representable value for each numpy scalar type (★★☆)"
   ]
  },
  {
   "cell_type": "code",
   "execution_count": 49,
   "id": "a7f37b9e",
   "metadata": {},
   "outputs": [
    {
     "name": "stdout",
     "output_type": "stream",
     "text": [
      "-128\n",
      "127\n",
      "-2147483648\n",
      "2147483647\n",
      "-9223372036854775808\n",
      "9223372036854775807\n",
      "-3.4028235e+38\n",
      "3.4028235e+38\n",
      "1.1920929e-07\n",
      "-1.7976931348623157e+308\n",
      "1.7976931348623157e+308\n",
      "2.220446049250313e-16\n"
     ]
    }
   ],
   "source": [
    "for dtype in [np.int8, np.int32, np.int64]:\n",
    "   print(np.iinfo(dtype).min)\n",
    "   print(np.iinfo(dtype).max)\n",
    "for dtype in [np.float32, np.float64]:\n",
    "   print(np.finfo(dtype).min)\n",
    "   print(np.finfo(dtype).max)\n",
    "   print(np.finfo(dtype).eps)"
   ]
  },
  {
   "cell_type": "markdown",
   "id": "1d269f07",
   "metadata": {},
   "source": [
    "#### 49. How to print all the values of an array? (★★☆)"
   ]
  },
  {
   "cell_type": "code",
   "execution_count": 50,
   "id": "fde90b07",
   "metadata": {},
   "outputs": [
    {
     "name": "stdout",
     "output_type": "stream",
     "text": [
      "0.5203357952270222 0.5169234537962833 0.8362181114065216 0.14328413655460936 0.2759641800091652\n"
     ]
    }
   ],
   "source": [
    "a = np.random.random(5)\n",
    "print(*a)"
   ]
  },
  {
   "cell_type": "markdown",
   "id": "ed655678",
   "metadata": {},
   "source": [
    "#### 50. How to find the closest value (to a given scalar) in a vector? (★★☆)"
   ]
  },
  {
   "cell_type": "code",
   "execution_count": 51,
   "id": "55e0812f",
   "metadata": {},
   "outputs": [
    {
     "name": "stdout",
     "output_type": "stream",
     "text": [
      "[0 1 2 3 4 5 6 7 8 9]\n",
      "7.762546323505893\n",
      "8\n"
     ]
    }
   ],
   "source": [
    "a = np.arange(0, 10)\n",
    "print(a)\n",
    "scalar = np.random.uniform(0,10)\n",
    "print(scalar)\n",
    "print(a[(np.abs(a-scalar)).argmin()])"
   ]
  },
  {
   "cell_type": "markdown",
   "id": "3f73f88f",
   "metadata": {},
   "source": [
    "#### 51. Create a structured array representing a position (x,y) and a color (r,g,b) (★★☆)"
   ]
  },
  {
   "cell_type": "code",
   "execution_count": 52,
   "id": "74b51105",
   "metadata": {},
   "outputs": [
    {
     "name": "stdout",
     "output_type": "stream",
     "text": [
      "[((0., 0.), (0., 0., 0.)) ((0., 0.), (0., 0., 0.))\n",
      " ((0., 0.), (0., 0., 0.)) ((0., 0.), (0., 0., 0.))\n",
      " ((0., 0.), (0., 0., 0.)) ((0., 0.), (0., 0., 0.))\n",
      " ((0., 0.), (0., 0., 0.)) ((0., 0.), (0., 0., 0.))\n",
      " ((0., 0.), (0., 0., 0.)) ((0., 0.), (0., 0., 0.))]\n"
     ]
    }
   ],
   "source": [
    "RGB = np.zeros(10, [('position',[('x', float),\n",
    "                                ('y', float)]),\n",
    "                       \n",
    "                    ('color',   [('r', float),\n",
    "                                ('g', float),\n",
    "                                ('b', float)])])\n",
    "print(RGB)\n"
   ]
  },
  {
   "cell_type": "markdown",
   "id": "db83eee0",
   "metadata": {},
   "source": [
    "#### 52. Consider a random vector with shape (100,2) representing coordinates, find point by point distances (★★☆)"
   ]
  },
  {
   "cell_type": "code",
   "execution_count": 53,
   "id": "10884922",
   "metadata": {},
   "outputs": [
    {
     "name": "stdout",
     "output_type": "stream",
     "text": [
      "[[0.         0.37406589 0.24341002 ... 0.09955482 0.16004333 0.27413768]\n",
      " [0.37406589 0.         0.60396367 ... 0.41177443 0.3498252  0.23537928]\n",
      " [0.24341002 0.60396367 0.         ... 0.27736451 0.28314436 0.44050357]\n",
      " ...\n",
      " [0.09955482 0.41177443 0.27736451 ... 0.         0.25928645 0.35965008]\n",
      " [0.16004333 0.3498252  0.28314436 ... 0.25928645 0.         0.15739163]\n",
      " [0.27413768 0.23537928 0.44050357 ... 0.35965008 0.15739163 0.        ]]\n"
     ]
    }
   ],
   "source": [
    "vector = np.random.random((100,2))\n",
    "X,Y = np.atleast_2d(vector[:,0], vector[:,1])\n",
    "D = np.sqrt( (X-X.T)**2 + (Y-Y.T)**2)\n",
    "print(D)"
   ]
  },
  {
   "cell_type": "markdown",
   "id": "b90e0bb2",
   "metadata": {},
   "source": [
    "#### 53. How to convert a float (32 bits) array into an integer (32 bits) in place?"
   ]
  },
  {
   "cell_type": "code",
   "execution_count": 54,
   "id": "db97ea05",
   "metadata": {},
   "outputs": [
    {
     "name": "stdout",
     "output_type": "stream",
     "text": [
      "[ 1.  5. 15.  8. 13.  6. 13. 10. 11. 12.]\n",
      "[ 1  5 15  8 13  6 13 10 11 12]\n"
     ]
    }
   ],
   "source": [
    "a = (np.random.randint(0, 20, 10)).astype(np.float32)\n",
    "print(a)\n",
    "b = a.view(np.int32)\n",
    "b[:] = a\n",
    "print(b)"
   ]
  },
  {
   "cell_type": "markdown",
   "id": "0d1b021c",
   "metadata": {},
   "source": [
    "#### 54. How to read the following file? (★★☆)\n",
    "```\n",
    "1, 2, 3, 4, 5\n",
    "6,  ,  , 7, 8\n",
    " ,  , 9,10,11\n",
    "```"
   ]
  },
  {
   "cell_type": "code",
   "execution_count": 55,
   "id": "9551928e",
   "metadata": {},
   "outputs": [
    {
     "name": "stdout",
     "output_type": "stream",
     "text": [
      "[[ 1  2  3  4  5]\n",
      " [ 6 -1 -1  7  8]\n",
      " [-1 -1  9 10 11]]\n"
     ]
    }
   ],
   "source": [
    "from io import StringIO\n",
    "\n",
    "s = StringIO('''1, 2, 3, 4, 5\n",
    "                6,  ,  , 7, 8\n",
    "                 ,  , 9,10,11\n",
    "''')\n",
    "readFile = np.genfromtxt(s, delimiter=\",\", dtype=int)\n",
    "print(readFile)"
   ]
  },
  {
   "cell_type": "markdown",
   "id": "56928772",
   "metadata": {},
   "source": [
    "#### 55. What is the equivalent of enumerate for numpy arrays? (★★☆)"
   ]
  },
  {
   "cell_type": "code",
   "execution_count": 56,
   "id": "327d9b88",
   "metadata": {},
   "outputs": [
    {
     "name": "stdout",
     "output_type": "stream",
     "text": [
      "(0, 0) 0\n",
      "(0, 1) 1\n",
      "(0, 2) 2\n",
      "(1, 0) 3\n",
      "(1, 1) 4\n",
      "(1, 2) 5\n",
      "(2, 0) 6\n",
      "(2, 1) 7\n",
      "(2, 2) 8\n",
      "(0, 0) 0\n",
      "(0, 1) 1\n",
      "(0, 2) 2\n",
      "(1, 0) 3\n",
      "(1, 1) 4\n",
      "(1, 2) 5\n",
      "(2, 0) 6\n",
      "(2, 1) 7\n",
      "(2, 2) 8\n"
     ]
    }
   ],
   "source": [
    "matrix = np.arange(9).reshape(3,3)\n",
    "for index, value in np.ndenumerate(matrix):\n",
    "    print(index, value)\n",
    "for index in np.ndindex(matrix.shape):\n",
    "    print(index, matrix[index])"
   ]
  },
  {
   "cell_type": "markdown",
   "id": "257e0bac",
   "metadata": {},
   "source": [
    "#### 56. Generate a generic 2D Gaussian-like array (★★☆)"
   ]
  },
  {
   "cell_type": "code",
   "execution_count": 57,
   "id": "1325d664",
   "metadata": {},
   "outputs": [
    {
     "name": "stdout",
     "output_type": "stream",
     "text": [
      "[[0.36787944 0.44822088 0.51979489 0.57375342 0.60279818 0.60279818\n",
      "  0.57375342 0.51979489 0.44822088 0.36787944]\n",
      " [0.44822088 0.54610814 0.63331324 0.69905581 0.73444367 0.73444367\n",
      "  0.69905581 0.63331324 0.54610814 0.44822088]\n",
      " [0.51979489 0.63331324 0.73444367 0.81068432 0.85172308 0.85172308\n",
      "  0.81068432 0.73444367 0.63331324 0.51979489]\n",
      " [0.57375342 0.69905581 0.81068432 0.89483932 0.9401382  0.9401382\n",
      "  0.89483932 0.81068432 0.69905581 0.57375342]\n",
      " [0.60279818 0.73444367 0.85172308 0.9401382  0.98773022 0.98773022\n",
      "  0.9401382  0.85172308 0.73444367 0.60279818]\n",
      " [0.60279818 0.73444367 0.85172308 0.9401382  0.98773022 0.98773022\n",
      "  0.9401382  0.85172308 0.73444367 0.60279818]\n",
      " [0.57375342 0.69905581 0.81068432 0.89483932 0.9401382  0.9401382\n",
      "  0.89483932 0.81068432 0.69905581 0.57375342]\n",
      " [0.51979489 0.63331324 0.73444367 0.81068432 0.85172308 0.85172308\n",
      "  0.81068432 0.73444367 0.63331324 0.51979489]\n",
      " [0.44822088 0.54610814 0.63331324 0.69905581 0.73444367 0.73444367\n",
      "  0.69905581 0.63331324 0.54610814 0.44822088]\n",
      " [0.36787944 0.44822088 0.51979489 0.57375342 0.60279818 0.60279818\n",
      "  0.57375342 0.51979489 0.44822088 0.36787944]]\n"
     ]
    }
   ],
   "source": [
    "X, Y = np.meshgrid(np.linspace(-1,1,10), np.linspace(-1,1,10))\n",
    "D = np.sqrt(X*X+Y*Y)\n",
    "sigma, mu = 1.0, 0.0\n",
    "G = np.exp(-( (D-mu)**2 / ( 2.0 * sigma**2 ) ) )\n",
    "print(G)"
   ]
  },
  {
   "cell_type": "markdown",
   "id": "441347ee",
   "metadata": {},
   "source": [
    "#### 57. How to randomly place p elements in a 2D array? (★★☆)"
   ]
  },
  {
   "cell_type": "code",
   "execution_count": 58,
   "id": "1e61fce5",
   "metadata": {},
   "outputs": [
    {
     "name": "stdout",
     "output_type": "stream",
     "text": [
      "[[0. 0. 0. 0. 0.]\n",
      " [0. 1. 1. 0. 0.]\n",
      " [0. 0. 0. 0. 0.]\n",
      " [0. 0. 0. 0. 0.]\n",
      " [0. 1. 1. 0. 0.]]\n"
     ]
    }
   ],
   "source": [
    "matrix = np.zeros((5,5))\n",
    "np.put(matrix, np.random.choice(range(5*5), 4, replace=False),1)\n",
    "print(matrix)"
   ]
  },
  {
   "cell_type": "markdown",
   "id": "8a76af52",
   "metadata": {},
   "source": [
    "#### 58. Subtract the mean of each row of a matrix (★★☆)"
   ]
  },
  {
   "cell_type": "code",
   "execution_count": 59,
   "id": "65cf18e9",
   "metadata": {},
   "outputs": [
    {
     "data": {
      "text/plain": [
       "(array([[0.32374384, 0.95135191, 0.78948314, 0.52641192, 0.80894743,\n",
       "         0.58238912, 0.09253114, 0.2048346 , 0.49970356, 0.90148788],\n",
       "        [0.57197252, 0.46497825, 0.50797664, 0.83979199, 0.88657305,\n",
       "         0.45792226, 0.67553767, 0.53506534, 0.93738505, 0.78461337],\n",
       "        [0.05433981, 0.66210419, 0.56735511, 0.80507143, 0.59136158,\n",
       "         0.70263715, 0.79944954, 0.12515202, 0.25571086, 0.28250728],\n",
       "        [0.76057337, 0.79597937, 0.4799769 , 0.61174603, 0.92680961,\n",
       "         0.89547236, 0.25882792, 0.29803237, 0.10884483, 0.93474763],\n",
       "        [0.0688353 , 0.3079676 , 0.0740064 , 0.56071012, 0.59036984,\n",
       "         0.48137033, 0.7558603 , 0.62105001, 0.44074436, 0.84500812]]),\n",
       " array([[-0.24434462,  0.38326346,  0.22139469, -0.04167653,  0.24085897,\n",
       "          0.01430067, -0.47555732, -0.36325385, -0.06838489,  0.33339943],\n",
       "        [-0.0942091 , -0.20120337, -0.15820497,  0.17361038,  0.22039144,\n",
       "         -0.20825936,  0.00935605, -0.13111627,  0.27120344,  0.11843176],\n",
       "        [-0.43022909,  0.17753529,  0.08278621,  0.32050254,  0.10679268,\n",
       "          0.21806825,  0.31488065, -0.35941688, -0.22885804, -0.20206162],\n",
       "        [ 0.15347233,  0.18887833, -0.12712414,  0.00464499,  0.31970858,\n",
       "          0.28837132, -0.34827312, -0.30906867, -0.49825621,  0.32764659],\n",
       "        [-0.40575694, -0.16662464, -0.40058584,  0.08611788,  0.1157776 ,\n",
       "          0.00677809,  0.28126807,  0.14645777, -0.03384788,  0.37041588]]))"
      ]
     },
     "execution_count": 59,
     "metadata": {},
     "output_type": "execute_result"
    }
   ],
   "source": [
    "a = np.random.rand(5, 10)\n",
    "mean = a.mean(axis=1, keepdims=True)\n",
    "b = a - mean\n",
    "a, b"
   ]
  },
  {
   "cell_type": "markdown",
   "id": "d2dc8b5f",
   "metadata": {},
   "source": [
    "#### 59. How to sort an array by the nth column? (★★☆)"
   ]
  },
  {
   "cell_type": "code",
   "execution_count": 60,
   "id": "83b5eafe",
   "metadata": {},
   "outputs": [
    {
     "data": {
      "text/plain": [
       "(array([[ 8.30146583, 60.88552825, 44.09261757, 45.99452686, 65.45954146],\n",
       "        [14.9725476 , 93.53076293, 26.26707639, 58.56198141, 80.34301562],\n",
       "        [71.04633491, 65.15576708, 62.98833551, 53.85293921, 14.12812144],\n",
       "        [95.70151343, 17.3869991 , 24.2930485 , 20.58565457, 50.59892478],\n",
       "        [21.08637038, 92.49421809,  0.47857326, 68.99931787, 12.81354284]]),\n",
       " array([[95.70151343, 17.3869991 , 24.2930485 , 20.58565457, 50.59892478],\n",
       "        [ 8.30146583, 60.88552825, 44.09261757, 45.99452686, 65.45954146],\n",
       "        [71.04633491, 65.15576708, 62.98833551, 53.85293921, 14.12812144],\n",
       "        [21.08637038, 92.49421809,  0.47857326, 68.99931787, 12.81354284],\n",
       "        [14.9725476 , 93.53076293, 26.26707639, 58.56198141, 80.34301562]]))"
      ]
     },
     "execution_count": 60,
     "metadata": {},
     "output_type": "execute_result"
    }
   ],
   "source": [
    "a = 100 * np.random.random((5,5))\n",
    "a, a[a[:,1].argsort()]"
   ]
  },
  {
   "cell_type": "markdown",
   "id": "4886f74e",
   "metadata": {},
   "source": [
    "#### 60. How to tell if a given 2D array has null columns? (★★☆)"
   ]
  },
  {
   "cell_type": "code",
   "execution_count": 61,
   "id": "7a066dd9",
   "metadata": {},
   "outputs": [
    {
     "name": "stdout",
     "output_type": "stream",
     "text": [
      "[[0 0 1 1 1 0 0 1 1 1]\n",
      " [1 0 0 0 1 1 0 0 1 0]\n",
      " [1 0 0 1 0 0 1 1 1 0]\n",
      " [0 0 0 1 1 0 1 0 1 1]\n",
      " [0 0 1 0 0 0 1 0 1 0]]\n",
      "True\n"
     ]
    }
   ],
   "source": [
    "matrix = np.random.randint(0,2,(5,10))\n",
    "print(matrix)\n",
    "print((~matrix.any(axis=0)).any())"
   ]
  },
  {
   "cell_type": "markdown",
   "id": "1f5ad2a9",
   "metadata": {},
   "source": [
    "#### 61. Find the nearest value from a given value in an array (★★☆)"
   ]
  },
  {
   "cell_type": "code",
   "execution_count": 62,
   "id": "f53df167",
   "metadata": {},
   "outputs": [
    {
     "name": "stdout",
     "output_type": "stream",
     "text": [
      "[0.73371583 0.9323649  0.33366726 0.54470483 0.7353012  0.75158094\n",
      " 0.07398807 0.22169078 0.10592325 0.83806384]\n",
      "\n",
      "0.5\n",
      "\n",
      "0.5447048326681286\n"
     ]
    }
   ],
   "source": [
    "matrix = np.random.uniform(0,1,10)\n",
    "print(matrix)\n",
    "givenValue = 0.5\n",
    "print()\n",
    "print(givenValue)\n",
    "print()\n",
    "nearestInArray = matrix.flat[np.abs(matrix - givenValue).argmin()]\n",
    "print(nearestInArray)"
   ]
  },
  {
   "cell_type": "markdown",
   "id": "aa48f9b2",
   "metadata": {},
   "source": [
    "#### 62. Considering two arrays with shape (1,3) and (3,1), how to compute their sum using an iterator? (★★☆)"
   ]
  },
  {
   "cell_type": "code",
   "execution_count": 63,
   "id": "68987301",
   "metadata": {},
   "outputs": [
    {
     "name": "stdout",
     "output_type": "stream",
     "text": [
      "[[0 1 2]\n",
      " [1 2 3]\n",
      " [2 3 4]]\n"
     ]
    }
   ],
   "source": [
    "A = np.arange(3).reshape(3,1)\n",
    "B = np.arange(3).reshape(1,3)\n",
    "it = np.nditer([A,B,None])\n",
    "for x,y,z in it: z[...] = x + y\n",
    "print(it.operands[2])"
   ]
  },
  {
   "cell_type": "markdown",
   "id": "0bed1516",
   "metadata": {},
   "source": [
    "#### 63. Create an array class that has a name attribute (★★☆)"
   ]
  },
  {
   "cell_type": "code",
   "execution_count": 64,
   "id": "fa1d52fc",
   "metadata": {},
   "outputs": [
    {
     "name": "stdout",
     "output_type": "stream",
     "text": [
      "ArrayWithName\n"
     ]
    }
   ],
   "source": [
    "class arr(np.ndarray):\n",
    "    def __new__(cls, array, name):\n",
    "        obj = np.asarray(array).view(cls)\n",
    "        obj.name = name\n",
    "        return obj\n",
    "\n",
    "a = arr(np.arange(10), \"ArrayWithName\")\n",
    "print (a.name)"
   ]
  },
  {
   "cell_type": "markdown",
   "id": "463a40bb",
   "metadata": {},
   "source": [
    "#### 64. Consider a given vector, how to add 1 to each element indexed by a second vector (be careful with repeated indices)? (★★★)"
   ]
  },
  {
   "cell_type": "code",
   "execution_count": 65,
   "id": "cdb2cad0",
   "metadata": {},
   "outputs": [
    {
     "name": "stdout",
     "output_type": "stream",
     "text": [
      "[1. 1. 1. 1. 1. 1. 1. 1. 1. 1.]\n",
      "[5 5 0 5 0 3 8 9 1 7 5 9 6 7 1 4 8 8 9 7]\n",
      "[3. 3. 1. 2. 2. 5. 2. 4. 4. 4.]\n"
     ]
    }
   ],
   "source": [
    "vector = np.ones(10)\n",
    "print(vector)\n",
    "indicesVec = np.random.randint(0,len(vector),20)\n",
    "print(indicesVec)\n",
    "vector += np.bincount(indicesVec, minlength=len(vector))\n",
    "print(vector)"
   ]
  },
  {
   "cell_type": "markdown",
   "id": "2a2f8219",
   "metadata": {},
   "source": [
    "#### 65. How to accumulate elements of a vector (X) to an array (F) based on an index list (I)? (★★★)"
   ]
  },
  {
   "cell_type": "code",
   "execution_count": 66,
   "id": "9cc34a77",
   "metadata": {},
   "outputs": [
    {
     "name": "stdout",
     "output_type": "stream",
     "text": [
      "[0. 7. 0. 6. 5. 0. 0. 0. 0. 3.]\n"
     ]
    }
   ],
   "source": [
    "X = [1,2,3,4,5,6]\n",
    "I = [1,3,9,3,4,1]\n",
    "F = np.bincount(I,X)\n",
    "print(F)"
   ]
  },
  {
   "cell_type": "markdown",
   "id": "6a6a3c66",
   "metadata": {},
   "source": [
    "#### 66. Considering a (w,h,3) image of (dtype=ubyte), compute the number of unique colors (★★☆)"
   ]
  },
  {
   "cell_type": "code",
   "execution_count": 67,
   "id": "c88f5a5e",
   "metadata": {},
   "outputs": [
    {
     "data": {
      "text/plain": [
       "64"
      ]
     },
     "execution_count": 67,
     "metadata": {},
     "output_type": "execute_result"
    }
   ],
   "source": [
    "w, h = 256, 256\n",
    "i = np.random.randint(0, 4, (h, w, 3)).astype(np.ubyte)\n",
    "colors = np.unique(i.reshape(-1, 3), axis=0)\n",
    "len(colors)"
   ]
  },
  {
   "cell_type": "markdown",
   "id": "4b030baa",
   "metadata": {},
   "source": [
    "#### 67. Considering a four dimensions array, how to get sum over the last two axis at once? (★★★)"
   ]
  },
  {
   "cell_type": "code",
   "execution_count": 68,
   "id": "cd2e7c9c",
   "metadata": {},
   "outputs": [
    {
     "data": {
      "text/plain": [
       "array([[44, 73, 71, 69],\n",
       "       [53, 57, 90, 80],\n",
       "       [60, 73, 78, 62],\n",
       "       [88, 75, 59, 69]])"
      ]
     },
     "execution_count": 68,
     "metadata": {},
     "output_type": "execute_result"
    }
   ],
   "source": [
    "a = np.random.randint(0,10,(4, 4, 4, 4))\n",
    "a.sum(axis=(-2,-1))"
   ]
  },
  {
   "cell_type": "markdown",
   "id": "1fa6053b",
   "metadata": {},
   "source": [
    "#### 68. Considering a one-dimensional vector D, how to compute means of subsets of D using a vector S of same size describing subset  indices? (★★★)"
   ]
  },
  {
   "cell_type": "code",
   "execution_count": 69,
   "id": "9b5a070d",
   "metadata": {},
   "outputs": [
    {
     "data": {
      "text/plain": [
       "array([0.48095199, 0.64106353, 0.36206181, 0.4201029 , 0.48719303,\n",
       "       0.4468518 , 0.61047817, 0.43371053, 0.42827386, 0.51848095])"
      ]
     },
     "execution_count": 69,
     "metadata": {},
     "output_type": "execute_result"
    }
   ],
   "source": [
    "d = np.random.uniform(0, 1, 100)\n",
    "s = np.random.randint(0, 10, 100)\n",
    "sums = np.bincount(s, weights=d)\n",
    "counts = np.bincount(s)\n",
    "means = sums / counts\n",
    "means"
   ]
  },
  {
   "cell_type": "markdown",
   "id": "2e7b0395",
   "metadata": {},
   "source": [
    "#### 69. How to get the diagonal of a dot product? (★★★)"
   ]
  },
  {
   "cell_type": "code",
   "execution_count": 70,
   "id": "ae437196",
   "metadata": {},
   "outputs": [
    {
     "data": {
      "text/plain": [
       "array([1.31649393, 1.60445549, 1.8137641 , 1.7109358 , 1.2032488 ])"
      ]
     },
     "execution_count": 70,
     "metadata": {},
     "output_type": "execute_result"
    }
   ],
   "source": [
    "a = np.random.uniform(0, 1, (5,5))\n",
    "b = np.random.uniform(0, 1, (5,5))\n",
    "\n",
    "np.diag(np.dot(a, b))"
   ]
  },
  {
   "cell_type": "markdown",
   "id": "2bf2f8e4",
   "metadata": {},
   "source": [
    "#### 70. Consider the vector [1, 2, 3, 4, 5], how to build a new vector with 3 consecutive zeros interleaved between each value? (★★★)"
   ]
  },
  {
   "cell_type": "code",
   "execution_count": 71,
   "id": "8a427342",
   "metadata": {},
   "outputs": [
    {
     "data": {
      "text/plain": [
       "array([1., 0., 0., 0., 2., 0., 0., 0., 3., 0., 0., 0., 4., 0., 0., 0., 5.])"
      ]
     },
     "execution_count": 71,
     "metadata": {},
     "output_type": "execute_result"
    }
   ],
   "source": [
    "a = np.arange(1, 6)\n",
    "target = 3\n",
    "b = np.zeros(len(a) + (len(a)-1)*(target))\n",
    "b[::target+1] = a\n",
    "b"
   ]
  },
  {
   "cell_type": "markdown",
   "id": "fff802ea",
   "metadata": {},
   "source": [
    "#### 71. Consider an array of dimension (5,5,3), how to mulitply it by an array with dimensions (5,5)? (★★★)"
   ]
  },
  {
   "cell_type": "code",
   "execution_count": 72,
   "id": "e83ab7b5",
   "metadata": {},
   "outputs": [
    {
     "name": "stdout",
     "output_type": "stream",
     "text": [
      "[[[4. 4. 4.]\n",
      "  [4. 4. 4.]\n",
      "  [4. 4. 4.]\n",
      "  [4. 4. 4.]\n",
      "  [4. 4. 4.]]\n",
      "\n",
      " [[4. 4. 4.]\n",
      "  [4. 4. 4.]\n",
      "  [4. 4. 4.]\n",
      "  [4. 4. 4.]\n",
      "  [4. 4. 4.]]\n",
      "\n",
      " [[4. 4. 4.]\n",
      "  [4. 4. 4.]\n",
      "  [4. 4. 4.]\n",
      "  [4. 4. 4.]\n",
      "  [4. 4. 4.]]\n",
      "\n",
      " [[4. 4. 4.]\n",
      "  [4. 4. 4.]\n",
      "  [4. 4. 4.]\n",
      "  [4. 4. 4.]\n",
      "  [4. 4. 4.]]\n",
      "\n",
      " [[4. 4. 4.]\n",
      "  [4. 4. 4.]\n",
      "  [4. 4. 4.]\n",
      "  [4. 4. 4.]\n",
      "  [4. 4. 4.]]]\n"
     ]
    }
   ],
   "source": [
    "a = np.ones((5,5,3))\n",
    "b = 4 * np.ones((5,5))\n",
    "print(a * b[:,:,None])"
   ]
  },
  {
   "cell_type": "markdown",
   "id": "a0865c04",
   "metadata": {},
   "source": [
    "#### 72. How to swap two rows of an array? (★★★)"
   ]
  },
  {
   "cell_type": "code",
   "execution_count": 73,
   "id": "bb510428",
   "metadata": {},
   "outputs": [
    {
     "data": {
      "text/plain": [
       "array([[5, 6, 7, 8, 9],\n",
       "       [0, 1, 2, 3, 4]])"
      ]
     },
     "execution_count": 73,
     "metadata": {},
     "output_type": "execute_result"
    }
   ],
   "source": [
    "a = np.arange(0, 10, 1).reshape(2,5)\n",
    "a[[0,1]] = a[[1,0]]\n",
    "a"
   ]
  },
  {
   "cell_type": "markdown",
   "id": "52beda8d",
   "metadata": {},
   "source": [
    "#### 73. Consider a set of 10 triplets describing 10 triangles (with shared vertices), find the set of unique line segments composing all the  triangles (★★★)"
   ]
  },
  {
   "cell_type": "code",
   "execution_count": 74,
   "id": "5b9895de",
   "metadata": {},
   "outputs": [
    {
     "data": {
      "text/plain": [
       "array([( 0, 45), ( 0, 68), ( 8, 75), ( 8, 82), (10, 15), (10, 65),\n",
       "       (13, 25), (13, 29), (13, 52), (13, 62), (13, 78), (13, 83),\n",
       "       (15, 43), (15, 65), (15, 80), (21, 99), (25, 62), (29, 52),\n",
       "       (33, 34), (33, 88), (34, 88), (43, 80), (45, 68), (48, 69),\n",
       "       (48, 93), (69, 93), (75, 82), (78, 83), (99, 99)],\n",
       "      dtype=[('p0', '<i4'), ('p1', '<i4')])"
      ]
     },
     "execution_count": 74,
     "metadata": {},
     "output_type": "execute_result"
    }
   ],
   "source": [
    "faces = np.random.randint(0, 100, (10,3))\n",
    "f = np.roll(faces.repeat(2, axis=1), -1, axis=1)\n",
    "f = f.reshape(len(f) * 3, 2)\n",
    "f = np.sort(f, axis=1)\n",
    "np.unique(f.view( dtype=[('p0',f.dtype),('p1',f.dtype)]))"
   ]
  },
  {
   "cell_type": "markdown",
   "id": "b1f8e571",
   "metadata": {},
   "source": [
    "#### 74. Given a sorted array C that corresponds to a bincount, how to produce an array A such that np.bincount(A) == C? (★★★)"
   ]
  },
  {
   "cell_type": "code",
   "execution_count": 75,
   "id": "ea6d42e9",
   "metadata": {},
   "outputs": [
    {
     "data": {
      "text/plain": [
       "array([1, 1, 2, 3, 4, 4, 6])"
      ]
     },
     "execution_count": 75,
     "metadata": {},
     "output_type": "execute_result"
    }
   ],
   "source": [
    "c = np.bincount([1,1,2,3,4,4,6])\n",
    "a = np.repeat(np.arange(len(c)), c)\n",
    "a"
   ]
  },
  {
   "cell_type": "markdown",
   "id": "db1ed658",
   "metadata": {},
   "source": [
    "#### 75. How to compute averages using a sliding window over an array? (★★★)"
   ]
  },
  {
   "cell_type": "code",
   "execution_count": 76,
   "id": "9dc6a98a",
   "metadata": {},
   "outputs": [
    {
     "data": {
      "text/plain": [
       "array([ 1.5,  2.5,  3.5,  4.5,  5.5,  6.5,  7.5,  8.5,  9.5, 10.5, 11.5,\n",
       "       12.5, 13.5, 14.5, 15.5, 16.5, 17.5])"
      ]
     },
     "execution_count": 76,
     "metadata": {},
     "output_type": "execute_result"
    }
   ],
   "source": [
    "from numpy.lib.stride_tricks import sliding_window_view\n",
    "\n",
    "Z = np.arange(20)\n",
    "sliding_window_view(Z, window_shape=4).mean(axis=-1)"
   ]
  },
  {
   "cell_type": "markdown",
   "id": "1ca35bda",
   "metadata": {},
   "source": [
    "#### 76. Consider a one-dimensional array Z, build a two-dimensional array whose first row is (Z[0],Z[1],Z[2]) and each subsequent row is  shifted by 1 (last row should be (Z[-3],Z[-2],Z[-1]) (★★★)"
   ]
  },
  {
   "cell_type": "code",
   "execution_count": 77,
   "id": "900e8b0a",
   "metadata": {},
   "outputs": [
    {
     "data": {
      "text/plain": [
       "array([[0, 1, 2],\n",
       "       [1, 2, 3],\n",
       "       [2, 3, 4],\n",
       "       [3, 4, 5],\n",
       "       [4, 5, 6],\n",
       "       [5, 6, 7],\n",
       "       [6, 7, 8],\n",
       "       [7, 8, 9]])"
      ]
     },
     "execution_count": 77,
     "metadata": {},
     "output_type": "execute_result"
    }
   ],
   "source": [
    "Z = np.arange(10)\n",
    "sliding_window_view(Z, window_shape=3)"
   ]
  },
  {
   "cell_type": "markdown",
   "id": "18bd6fab",
   "metadata": {},
   "source": [
    "#### 77. How to negate a boolean, or to change the sign of a float inplace? (★★★)"
   ]
  },
  {
   "cell_type": "code",
   "execution_count": 78,
   "id": "554c5103",
   "metadata": {},
   "outputs": [
    {
     "data": {
      "text/plain": [
       "array([ 0.41498354,  0.74568538, -0.31072963, -0.66680253,  0.29547916,\n",
       "        0.27361335, -0.0195789 , -0.02885165, -0.10856578, -0.68342325,\n",
       "       -0.30062938, -0.27687659, -0.63501876,  0.23892234,  0.31377039,\n",
       "        0.4236388 , -0.42695999, -0.05565296, -0.88405089,  0.21123824,\n",
       "       -0.90895686, -0.53449605,  0.2253949 , -0.67114271,  0.94989401,\n",
       "       -0.84099991,  0.30138689,  0.44526824,  0.28808205,  0.73409413,\n",
       "       -0.70714579,  0.3606324 ,  0.44796141, -0.48402407,  0.49890012,\n",
       "        0.1938322 , -0.18236232,  0.83846466, -0.18684385,  0.63442039,\n",
       "        0.29155314,  0.17668717,  0.96512177,  0.75350929,  0.24723946,\n",
       "       -0.25435326,  0.41920632,  0.26036893, -0.14037184, -0.79330458,\n",
       "       -0.19851562, -0.39361558,  0.99754761, -0.23266598, -0.58999115,\n",
       "        0.45733735,  0.49523816, -0.98573372,  0.13137734, -0.56229964,\n",
       "        0.6428936 ,  0.56063309,  0.2217216 , -0.96551636, -0.55324231,\n",
       "        0.96493006, -0.23107104,  0.65767097, -0.09355679,  0.95452642,\n",
       "       -0.06760451,  0.09890782, -0.3900808 ,  0.33286938, -0.51534363,\n",
       "        0.54769434, -0.8455972 , -0.38300032,  0.89431357,  0.35776908,\n",
       "       -0.8187277 ,  0.39972533,  0.25789381, -0.96514086,  0.32539055,\n",
       "        0.26255352, -0.59422684,  0.94935857, -0.79962208, -0.1648693 ,\n",
       "       -0.48023554, -0.35820872,  0.81903948,  0.92921419, -0.66748535,\n",
       "       -0.22490555, -0.39701284,  0.46364548, -0.76776546, -0.69259755])"
      ]
     },
     "execution_count": 78,
     "metadata": {},
     "output_type": "execute_result"
    }
   ],
   "source": [
    "a = np.random.uniform(-1.0,1.0,100)\n",
    "np.negative(a, out=a)"
   ]
  },
  {
   "cell_type": "markdown",
   "id": "79a5b412",
   "metadata": {},
   "source": [
    "#### 78. Consider 2 sets of points P0,P1 describing lines (2d) and a point p, how to compute distance from p to each line i (P0[i],P1[i])? (★★★)"
   ]
  },
  {
   "cell_type": "code",
   "execution_count": null,
   "id": "4e4eac2f",
   "metadata": {},
   "outputs": [],
   "source": []
  },
  {
   "cell_type": "markdown",
   "id": "33ffa66d",
   "metadata": {},
   "source": [
    "#### 79. Consider 2 sets of points P0,P1 describing lines (2d) and a set of points P, how to compute distance from each point j (P[j]) to each line i (P0[i],P1[i])? (★★★)"
   ]
  },
  {
   "cell_type": "code",
   "execution_count": null,
   "id": "b56c2510",
   "metadata": {},
   "outputs": [],
   "source": []
  },
  {
   "cell_type": "markdown",
   "id": "a0f23dfa",
   "metadata": {},
   "source": [
    "#### 80. Consider an arbitrary array, write a function that extract a subpart with a fixed shape and centered on a given element (pad with a `fill` value when necessary) (★★★)"
   ]
  },
  {
   "cell_type": "code",
   "execution_count": null,
   "id": "4b7b96fc",
   "metadata": {},
   "outputs": [],
   "source": []
  },
  {
   "cell_type": "markdown",
   "id": "cc27e944",
   "metadata": {},
   "source": [
    "#### 81. Consider an array Z = [1,2,3,4,5,6,7,8,9,10,11,12,13,14], how to generate an array R = [[1,2,3,4], [2,3,4,5], [3,4,5,6], ..., [11,12,13,14]]? (★★★)"
   ]
  },
  {
   "cell_type": "code",
   "execution_count": 79,
   "id": "2fdaa26c",
   "metadata": {},
   "outputs": [
    {
     "data": {
      "text/plain": [
       "array([[ 1,  2,  3,  4],\n",
       "       [ 2,  3,  4,  5],\n",
       "       [ 3,  4,  5,  6],\n",
       "       [ 4,  5,  6,  7],\n",
       "       [ 5,  6,  7,  8],\n",
       "       [ 6,  7,  8,  9],\n",
       "       [ 7,  8,  9, 10],\n",
       "       [ 8,  9, 10, 11],\n",
       "       [ 9, 10, 11, 12],\n",
       "       [10, 11, 12, 13],\n",
       "       [11, 12, 13, 14]], dtype=uint32)"
      ]
     },
     "execution_count": 79,
     "metadata": {},
     "output_type": "execute_result"
    }
   ],
   "source": [
    "Z = np.arange(1, 15, dtype=np.uint32)\n",
    "sliding_window_view(Z, window_shape=4)"
   ]
  },
  {
   "cell_type": "markdown",
   "id": "9bc44d6e",
   "metadata": {},
   "source": [
    "#### 82. Compute a matrix rank (★★★)"
   ]
  },
  {
   "cell_type": "code",
   "execution_count": 80,
   "id": "3a4c7564",
   "metadata": {},
   "outputs": [
    {
     "data": {
      "text/plain": [
       "10"
      ]
     },
     "execution_count": 80,
     "metadata": {},
     "output_type": "execute_result"
    }
   ],
   "source": [
    "a = np.random.uniform(0, 1, (10, 10))\n",
    "np.linalg.matrix_rank(a)"
   ]
  },
  {
   "cell_type": "markdown",
   "id": "718a82dd",
   "metadata": {},
   "source": [
    "#### 83. How to find the most frequent value in an array?"
   ]
  },
  {
   "cell_type": "code",
   "execution_count": 81,
   "id": "8ffc513c",
   "metadata": {},
   "outputs": [
    {
     "name": "stdout",
     "output_type": "stream",
     "text": [
      "[1 8 2 2 7 4 1 1 2 8 7 2 2 0 1 8 4 2 2 7 1 8 1 2 3 5 0 2 5 5 3 3 5 7 3 3 9\n",
      " 9 5 9 8 2 8 7 0 2 1 9 4 5]\n"
     ]
    },
    {
     "data": {
      "text/plain": [
       "2"
      ]
     },
     "execution_count": 81,
     "metadata": {},
     "output_type": "execute_result"
    }
   ],
   "source": [
    "a = np.random.randint(0, 10, 50)\n",
    "print(a)\n",
    "np.bincount(a).argmax()"
   ]
  },
  {
   "cell_type": "markdown",
   "id": "754ceeba",
   "metadata": {},
   "source": [
    "#### 84. Extract all the contiguous 3x3 blocks from a random 10x10 matrix (★★★)"
   ]
  },
  {
   "cell_type": "code",
   "execution_count": 82,
   "id": "c32bb120",
   "metadata": {},
   "outputs": [
    {
     "data": {
      "text/plain": [
       "array([[[[9, 0, 1],\n",
       "         [9, 9, 5],\n",
       "         [5, 9, 3]],\n",
       "\n",
       "        [[0, 1, 6],\n",
       "         [9, 5, 3],\n",
       "         [9, 3, 2]],\n",
       "\n",
       "        [[1, 6, 0],\n",
       "         [5, 3, 3],\n",
       "         [3, 2, 7]],\n",
       "\n",
       "        [[6, 0, 8],\n",
       "         [3, 3, 9],\n",
       "         [2, 7, 8]],\n",
       "\n",
       "        [[0, 8, 8],\n",
       "         [3, 9, 9],\n",
       "         [7, 8, 8]],\n",
       "\n",
       "        [[8, 8, 8],\n",
       "         [9, 9, 7],\n",
       "         [8, 8, 7]],\n",
       "\n",
       "        [[8, 8, 4],\n",
       "         [9, 7, 3],\n",
       "         [8, 7, 2]],\n",
       "\n",
       "        [[8, 4, 0],\n",
       "         [7, 3, 5],\n",
       "         [7, 2, 3]]],\n",
       "\n",
       "\n",
       "       [[[9, 9, 5],\n",
       "         [5, 9, 3],\n",
       "         [9, 5, 7]],\n",
       "\n",
       "        [[9, 5, 3],\n",
       "         [9, 3, 2],\n",
       "         [5, 7, 2]],\n",
       "\n",
       "        [[5, 3, 3],\n",
       "         [3, 2, 7],\n",
       "         [7, 2, 7]],\n",
       "\n",
       "        [[3, 3, 9],\n",
       "         [2, 7, 8],\n",
       "         [2, 7, 0]],\n",
       "\n",
       "        [[3, 9, 9],\n",
       "         [7, 8, 8],\n",
       "         [7, 0, 1]],\n",
       "\n",
       "        [[9, 9, 7],\n",
       "         [8, 8, 7],\n",
       "         [0, 1, 3]],\n",
       "\n",
       "        [[9, 7, 3],\n",
       "         [8, 7, 2],\n",
       "         [1, 3, 4]],\n",
       "\n",
       "        [[7, 3, 5],\n",
       "         [7, 2, 3],\n",
       "         [3, 4, 8]]],\n",
       "\n",
       "\n",
       "       [[[5, 9, 3],\n",
       "         [9, 5, 7],\n",
       "         [6, 8, 6]],\n",
       "\n",
       "        [[9, 3, 2],\n",
       "         [5, 7, 2],\n",
       "         [8, 6, 0]],\n",
       "\n",
       "        [[3, 2, 7],\n",
       "         [7, 2, 7],\n",
       "         [6, 0, 0]],\n",
       "\n",
       "        [[2, 7, 8],\n",
       "         [2, 7, 0],\n",
       "         [0, 0, 4]],\n",
       "\n",
       "        [[7, 8, 8],\n",
       "         [7, 0, 1],\n",
       "         [0, 4, 1]],\n",
       "\n",
       "        [[8, 8, 7],\n",
       "         [0, 1, 3],\n",
       "         [4, 1, 3]],\n",
       "\n",
       "        [[8, 7, 2],\n",
       "         [1, 3, 4],\n",
       "         [1, 3, 2]],\n",
       "\n",
       "        [[7, 2, 3],\n",
       "         [3, 4, 8],\n",
       "         [3, 2, 8]]],\n",
       "\n",
       "\n",
       "       [[[9, 5, 7],\n",
       "         [6, 8, 6],\n",
       "         [3, 2, 4]],\n",
       "\n",
       "        [[5, 7, 2],\n",
       "         [8, 6, 0],\n",
       "         [2, 4, 9]],\n",
       "\n",
       "        [[7, 2, 7],\n",
       "         [6, 0, 0],\n",
       "         [4, 9, 1]],\n",
       "\n",
       "        [[2, 7, 0],\n",
       "         [0, 0, 4],\n",
       "         [9, 1, 2]],\n",
       "\n",
       "        [[7, 0, 1],\n",
       "         [0, 4, 1],\n",
       "         [1, 2, 3]],\n",
       "\n",
       "        [[0, 1, 3],\n",
       "         [4, 1, 3],\n",
       "         [2, 3, 9]],\n",
       "\n",
       "        [[1, 3, 4],\n",
       "         [1, 3, 2],\n",
       "         [3, 9, 1]],\n",
       "\n",
       "        [[3, 4, 8],\n",
       "         [3, 2, 8],\n",
       "         [9, 1, 0]]],\n",
       "\n",
       "\n",
       "       [[[6, 8, 6],\n",
       "         [3, 2, 4],\n",
       "         [7, 4, 5]],\n",
       "\n",
       "        [[8, 6, 0],\n",
       "         [2, 4, 9],\n",
       "         [4, 5, 1]],\n",
       "\n",
       "        [[6, 0, 0],\n",
       "         [4, 9, 1],\n",
       "         [5, 1, 2]],\n",
       "\n",
       "        [[0, 0, 4],\n",
       "         [9, 1, 2],\n",
       "         [1, 2, 1]],\n",
       "\n",
       "        [[0, 4, 1],\n",
       "         [1, 2, 3],\n",
       "         [2, 1, 1]],\n",
       "\n",
       "        [[4, 1, 3],\n",
       "         [2, 3, 9],\n",
       "         [1, 1, 5]],\n",
       "\n",
       "        [[1, 3, 2],\n",
       "         [3, 9, 1],\n",
       "         [1, 5, 7]],\n",
       "\n",
       "        [[3, 2, 8],\n",
       "         [9, 1, 0],\n",
       "         [5, 7, 3]]],\n",
       "\n",
       "\n",
       "       [[[3, 2, 4],\n",
       "         [7, 4, 5],\n",
       "         [8, 8, 4]],\n",
       "\n",
       "        [[2, 4, 9],\n",
       "         [4, 5, 1],\n",
       "         [8, 4, 0]],\n",
       "\n",
       "        [[4, 9, 1],\n",
       "         [5, 1, 2],\n",
       "         [4, 0, 0]],\n",
       "\n",
       "        [[9, 1, 2],\n",
       "         [1, 2, 1],\n",
       "         [0, 0, 3]],\n",
       "\n",
       "        [[1, 2, 3],\n",
       "         [2, 1, 1],\n",
       "         [0, 3, 6]],\n",
       "\n",
       "        [[2, 3, 9],\n",
       "         [1, 1, 5],\n",
       "         [3, 6, 1]],\n",
       "\n",
       "        [[3, 9, 1],\n",
       "         [1, 5, 7],\n",
       "         [6, 1, 6]],\n",
       "\n",
       "        [[9, 1, 0],\n",
       "         [5, 7, 3],\n",
       "         [1, 6, 4]]],\n",
       "\n",
       "\n",
       "       [[[7, 4, 5],\n",
       "         [8, 8, 4],\n",
       "         [6, 7, 3]],\n",
       "\n",
       "        [[4, 5, 1],\n",
       "         [8, 4, 0],\n",
       "         [7, 3, 5]],\n",
       "\n",
       "        [[5, 1, 2],\n",
       "         [4, 0, 0],\n",
       "         [3, 5, 9]],\n",
       "\n",
       "        [[1, 2, 1],\n",
       "         [0, 0, 3],\n",
       "         [5, 9, 1]],\n",
       "\n",
       "        [[2, 1, 1],\n",
       "         [0, 3, 6],\n",
       "         [9, 1, 6]],\n",
       "\n",
       "        [[1, 1, 5],\n",
       "         [3, 6, 1],\n",
       "         [1, 6, 5]],\n",
       "\n",
       "        [[1, 5, 7],\n",
       "         [6, 1, 6],\n",
       "         [6, 5, 1]],\n",
       "\n",
       "        [[5, 7, 3],\n",
       "         [1, 6, 4],\n",
       "         [5, 1, 9]]],\n",
       "\n",
       "\n",
       "       [[[8, 8, 4],\n",
       "         [6, 7, 3],\n",
       "         [0, 2, 1]],\n",
       "\n",
       "        [[8, 4, 0],\n",
       "         [7, 3, 5],\n",
       "         [2, 1, 8]],\n",
       "\n",
       "        [[4, 0, 0],\n",
       "         [3, 5, 9],\n",
       "         [1, 8, 2]],\n",
       "\n",
       "        [[0, 0, 3],\n",
       "         [5, 9, 1],\n",
       "         [8, 2, 6]],\n",
       "\n",
       "        [[0, 3, 6],\n",
       "         [9, 1, 6],\n",
       "         [2, 6, 1]],\n",
       "\n",
       "        [[3, 6, 1],\n",
       "         [1, 6, 5],\n",
       "         [6, 1, 3]],\n",
       "\n",
       "        [[6, 1, 6],\n",
       "         [6, 5, 1],\n",
       "         [1, 3, 5]],\n",
       "\n",
       "        [[1, 6, 4],\n",
       "         [5, 1, 9],\n",
       "         [3, 5, 6]]]])"
      ]
     },
     "execution_count": 82,
     "metadata": {},
     "output_type": "execute_result"
    }
   ],
   "source": [
    "a = np.random.randint(0, 10, (10, 10))\n",
    "sliding_window_view(a, window_shape=(3, 3))"
   ]
  },
  {
   "cell_type": "markdown",
   "id": "9fc0b63a",
   "metadata": {},
   "source": [
    "#### 85. Create a 2D array subclass such that Z[i,j] == Z[j,i] (★★★)"
   ]
  },
  {
   "cell_type": "code",
   "execution_count": 83,
   "id": "c41d0f9b",
   "metadata": {},
   "outputs": [
    {
     "data": {
      "text/plain": [
       "Symetric([[  1,   6,  14,   3,   9,   6,  17,  12,  10,   9],\n",
       "          [  6,   4, 228,  13,   5,   9,  11,   6,   5,  14],\n",
       "          [ 14, 228,   6,   5,   3,   8,  11,  11,   8,  10],\n",
       "          [  3,  13,   5,   1,   2,  16,  11,  14,   5,  13],\n",
       "          [  9,   5,   3,   2,   5,   8,  14,   8,   9,   9],\n",
       "          [  6,   9,   8,  16,   8,   8,  15,   1,   3,   6],\n",
       "          [ 17,  11,  11,  11,  14,  15,   7,  10,   6,   4],\n",
       "          [ 12,   6,  11,  14,   8,   1,  10,   2,  11,  15],\n",
       "          [ 10,   5,   8,   5,   9,   3,   6,  11,   6,   6],\n",
       "          [  9,  14,  10,  13,   9,   6,   4,  15,   6,   1]])"
      ]
     },
     "execution_count": 83,
     "metadata": {},
     "output_type": "execute_result"
    }
   ],
   "source": [
    "class Symetric(np.ndarray):\n",
    "    def __setitem__(self, index, value):\n",
    "        i,j = index\n",
    "        super(Symetric, self).__setitem__((i,j), value)\n",
    "        super(Symetric, self).__setitem__((j,i), value)\n",
    "\n",
    "def symetric(a):\n",
    "    return np.asarray(a + a.T - np.diag(a.diagonal())).view(Symetric)\n",
    "\n",
    "a = symetric(np.random.randint(0, 10, (10, 10)))\n",
    "a[1, 2] = 228\n",
    "a"
   ]
  },
  {
   "cell_type": "markdown",
   "id": "ae909782",
   "metadata": {},
   "source": [
    "#### 86. Consider a set of p matrices wich shape (n,n) and a set of p vectors with shape (n,1). How to compute the sum of of the p matrix products at once? (result has shape (n,1)) (★★★)"
   ]
  },
  {
   "cell_type": "code",
   "execution_count": null,
   "id": "013944b1",
   "metadata": {},
   "outputs": [],
   "source": []
  },
  {
   "cell_type": "markdown",
   "id": "5f134bf4",
   "metadata": {},
   "source": [
    "#### 87. Consider a 16x16 array, how to get the block-sum (block size is 4x4)? (★★★)"
   ]
  },
  {
   "cell_type": "code",
   "execution_count": 84,
   "id": "bf480005",
   "metadata": {},
   "outputs": [
    {
     "data": {
      "text/plain": [
       "array([[16., 16., 16., 16.],\n",
       "       [16., 16., 16., 16.],\n",
       "       [16., 16., 16., 16.],\n",
       "       [16., 16., 16., 16.]])"
      ]
     },
     "execution_count": 84,
     "metadata": {},
     "output_type": "execute_result"
    }
   ],
   "source": [
    "a = np.ones((16, 16))\n",
    "sliding_window_view(a, window_shape=(4, 4))[::4, ::4].sum(axis=(-2, -1))"
   ]
  },
  {
   "cell_type": "markdown",
   "id": "aa91a3be",
   "metadata": {},
   "source": [
    "#### 88. How to implement the Game of Life using numpy arrays? (★★★)"
   ]
  },
  {
   "cell_type": "code",
   "execution_count": null,
   "id": "a20f0e2b",
   "metadata": {},
   "outputs": [],
   "source": []
  },
  {
   "cell_type": "markdown",
   "id": "885023d9",
   "metadata": {},
   "source": [
    "#### 89. How to get the n largest values of an array (★★★)"
   ]
  },
  {
   "cell_type": "code",
   "execution_count": 85,
   "id": "996ab585",
   "metadata": {},
   "outputs": [
    {
     "name": "stdout",
     "output_type": "stream",
     "text": [
      "[90 91 92 93 94 95 96 97 98 99]\n"
     ]
    }
   ],
   "source": [
    "a = np.arange(100)\n",
    "n = 10\n",
    "print(a[np.argsort(a)[-n:]])"
   ]
  },
  {
   "cell_type": "markdown",
   "id": "d0518aeb",
   "metadata": {},
   "source": [
    "#### 90. Given an arbitrary number of vectors, build the cartesian product (every combinations of every item) (★★★)"
   ]
  },
  {
   "cell_type": "code",
   "execution_count": null,
   "id": "d9ae30ca",
   "metadata": {},
   "outputs": [],
   "source": []
  },
  {
   "cell_type": "markdown",
   "id": "20cc5dc6",
   "metadata": {},
   "source": [
    "#### 91. How to create a record array from a regular array? (★★★)"
   ]
  },
  {
   "cell_type": "code",
   "execution_count": 86,
   "id": "a7d05a34",
   "metadata": {},
   "outputs": [
    {
     "data": {
      "text/plain": [
       "rec.array([(b'first', 1., 3), (b'second', 2., 4)],\n",
       "          dtype=[('col1', 'S8'), ('col2', '<f8'), ('col3', '<i8')])"
      ]
     },
     "execution_count": 86,
     "metadata": {},
     "output_type": "execute_result"
    }
   ],
   "source": [
    "a = np.array([(\"first\", 1, 3),\n",
    "              (\"second\", 2, 4)])\n",
    "records = np.core.records.fromarrays(a.T,\n",
    "                               names='col1, col2, col3',\n",
    "                               formats = 'S8, f8, i8')\n",
    "records"
   ]
  },
  {
   "cell_type": "markdown",
   "id": "e59a2c44",
   "metadata": {},
   "source": [
    "#### 92. Consider a large vector Z, compute Z to the power of 3 using 3 different methods (★★★)"
   ]
  },
  {
   "cell_type": "code",
   "execution_count": 87,
   "id": "916168ea",
   "metadata": {},
   "outputs": [
    {
     "name": "stdout",
     "output_type": "stream",
     "text": [
      "192 ms ± 3.55 ms per loop (mean ± std. dev. of 7 runs, 10 loops each)\n",
      "34.3 ms ± 594 µs per loop (mean ± std. dev. of 7 runs, 10 loops each)\n",
      "19.6 ms ± 288 µs per loop (mean ± std. dev. of 7 runs, 10 loops each)\n"
     ]
    }
   ],
   "source": [
    "a = np.random.rand(int(5e6))\n",
    "\n",
    "%timeit np.power(a,3)\n",
    "%timeit a*a*a\n",
    "%timeit np.einsum('i,i,i->i',a,a,a)"
   ]
  },
  {
   "cell_type": "markdown",
   "id": "f1fc4b70",
   "metadata": {},
   "source": [
    "#### 93. Consider two arrays A and B of shape (8,3) and (2,2). How to find rows of A that contain elements of each row of B regardless of the order of the elements in B? (★★★)"
   ]
  },
  {
   "cell_type": "code",
   "execution_count": 88,
   "id": "d35b4705",
   "metadata": {},
   "outputs": [
    {
     "data": {
      "text/plain": [
       "array([0, 3, 4, 6], dtype=int64)"
      ]
     },
     "execution_count": 88,
     "metadata": {},
     "output_type": "execute_result"
    }
   ],
   "source": [
    "A = np.random.randint(0,5,(8,3))\n",
    "B = np.random.randint(0,5,(2,2))\n",
    "\n",
    "C = (A[..., np.newaxis, np.newaxis] == B)\n",
    "rows = np.where(C.any((3,1)).all(1))[0]\n",
    "rows"
   ]
  },
  {
   "cell_type": "markdown",
   "id": "821a6ce8",
   "metadata": {},
   "source": [
    "#### 94. Considering a 10x3 matrix, extract rows with unequal values (e.g. [2,2,3]) (★★★)"
   ]
  },
  {
   "cell_type": "code",
   "execution_count": 89,
   "id": "5690c131",
   "metadata": {},
   "outputs": [
    {
     "data": {
      "text/plain": [
       "array([[0, 5, 6],\n",
       "       [7, 9, 2],\n",
       "       [7, 5, 3],\n",
       "       [9, 6, 6],\n",
       "       [1, 2, 6],\n",
       "       [7, 7, 9],\n",
       "       [4, 5, 3],\n",
       "       [6, 7, 3],\n",
       "       [0, 0, 3],\n",
       "       [5, 0, 5]])"
      ]
     },
     "execution_count": 89,
     "metadata": {},
     "output_type": "execute_result"
    }
   ],
   "source": [
    "a = np.random.randint(0, 10,(10,3))\n",
    "a[~(np.all(a[:,1:] == a[:,:-1], axis=1))]"
   ]
  },
  {
   "cell_type": "markdown",
   "id": "9dc9a61c",
   "metadata": {},
   "source": [
    "#### 95. Convert a vector of ints into a matrix binary representation (★★★)"
   ]
  },
  {
   "cell_type": "code",
   "execution_count": 90,
   "id": "c728306f",
   "metadata": {},
   "outputs": [
    {
     "data": {
      "text/plain": [
       "array([[0, 0, 0, 0, 0, 0, 0, 0],\n",
       "       [0, 0, 0, 0, 0, 0, 0, 1],\n",
       "       [0, 0, 0, 0, 0, 0, 1, 0],\n",
       "       [0, 0, 0, 0, 0, 1, 0, 0],\n",
       "       [0, 0, 0, 0, 1, 0, 0, 0],\n",
       "       [0, 0, 0, 1, 0, 0, 0, 0],\n",
       "       [0, 0, 1, 0, 0, 0, 0, 0],\n",
       "       [0, 1, 0, 0, 0, 0, 0, 0],\n",
       "       [1, 0, 0, 0, 0, 0, 0, 0]], dtype=uint8)"
      ]
     },
     "execution_count": 90,
     "metadata": {},
     "output_type": "execute_result"
    }
   ],
   "source": [
    "a = np.array([0, 1, 2, 4, 8, 16, 32, 64, 128], dtype=np.uint8)\n",
    "np.unpackbits(a[:, np.newaxis], axis=1)"
   ]
  },
  {
   "cell_type": "markdown",
   "id": "cca48e6e",
   "metadata": {},
   "source": [
    "#### 96. Given a two dimensional array, how to extract unique rows? (★★★)"
   ]
  },
  {
   "cell_type": "code",
   "execution_count": 91,
   "id": "ae2e6484",
   "metadata": {},
   "outputs": [
    {
     "data": {
      "text/plain": [
       "array([[1, 2, 5, 0],\n",
       "       [2, 6, 7, 2]])"
      ]
     },
     "execution_count": 91,
     "metadata": {},
     "output_type": "execute_result"
    }
   ],
   "source": [
    "a = np.random.randint(0, 10, (2, 4))\n",
    "np.unique(a, axis=0)"
   ]
  },
  {
   "cell_type": "markdown",
   "id": "3621d474",
   "metadata": {},
   "source": [
    "#### 97. Considering 2 vectors A & B, write the einsum equivalent of inner, outer, sum, and mul function (★★★)"
   ]
  },
  {
   "cell_type": "code",
   "execution_count": 92,
   "id": "09238dfb",
   "metadata": {},
   "outputs": [
    {
     "data": {
      "text/plain": [
       "array([[0.13380885, 0.25139873, 0.08208098, 0.09344477, 0.14101175,\n",
       "        0.32108383, 0.30014586, 0.09988177, 0.35989578, 0.45303204],\n",
       "       [0.19198388, 0.36069739, 0.11776669, 0.13407102, 0.20231833,\n",
       "        0.46067894, 0.43063793, 0.14330658, 0.51636486, 0.64999325],\n",
       "       [0.06882062, 0.1292995 , 0.04221592, 0.04806055, 0.07252522,\n",
       "        0.16513997, 0.15437115, 0.05137123, 0.18510175, 0.23300364],\n",
       "       [0.14298784, 0.26864413, 0.08771155, 0.09985487, 0.15068485,\n",
       "        0.34310947, 0.32073521, 0.10673344, 0.38458384, 0.48410905],\n",
       "       [0.05619418, 0.10557706, 0.03447061, 0.03924294, 0.0592191 ,\n",
       "        0.13484192, 0.12604884, 0.04194621, 0.15114134, 0.19025471],\n",
       "       [0.00712395, 0.0133844 , 0.00436997, 0.00497497, 0.00750743,\n",
       "        0.01709442, 0.01597968, 0.00531768, 0.01916075, 0.0241193 ],\n",
       "       [0.26435882, 0.49667471, 0.1621629 , 0.18461371, 0.2785892 ,\n",
       "        0.63434775, 0.59298175, 0.19733094, 0.7110264 , 0.89503062],\n",
       "       [0.14992623, 0.28167991, 0.0919677 , 0.10470026, 0.15799673,\n",
       "        0.35975864, 0.33629867, 0.11191261, 0.40324552, 0.50760012],\n",
       "       [0.18012909, 0.33842475, 0.11049473, 0.12579229, 0.18982541,\n",
       "        0.43223255, 0.40404654, 0.13445757, 0.48447993, 0.60985692],\n",
       "       [0.17968697, 0.33759409, 0.11022352, 0.12548353, 0.18935948,\n",
       "        0.43117163, 0.40305481, 0.13412754, 0.48329078, 0.60836003]])"
      ]
     },
     "execution_count": 92,
     "metadata": {},
     "output_type": "execute_result"
    }
   ],
   "source": [
    "A = np.random.uniform(0,1,10)\n",
    "B = np.random.uniform(0,1,10)\n",
    "\n",
    "np.einsum('i->', A)       # np.sum(A)\n",
    "np.einsum('i,i->i', A, B) # A * B\n",
    "np.einsum('i,i', A, B)    # np.inner(A, B)\n",
    "np.einsum('i,j->ij', A, B)    # np.outer(A, B)"
   ]
  },
  {
   "cell_type": "markdown",
   "id": "26162fae",
   "metadata": {},
   "source": [
    "#### 98. Considering a path described by two vectors (X,Y), how to sample it using equidistant samples (★★★)?"
   ]
  },
  {
   "cell_type": "code",
   "execution_count": 93,
   "id": "283c279f",
   "metadata": {},
   "outputs": [],
   "source": [
    "phi = np.arange(0, 10*np.pi, 0.1)\n",
    "a = 1\n",
    "x = a*phi*np.cos(phi)\n",
    "y = a*phi*np.sin(phi)\n",
    "\n",
    "dr = (np.diff(x)**2 + np.diff(y)**2)**.5 \n",
    "r = np.zeros_like(x)\n",
    "r[1:] = np.cumsum(dr)               \n",
    "r_int = np.linspace(0, r.max(), 200)\n",
    "x_int = np.interp(r_int, r, x)      \n",
    "y_int = np.interp(r_int, r, y)"
   ]
  },
  {
   "cell_type": "markdown",
   "id": "44b20c57",
   "metadata": {},
   "source": [
    "#### 99. Given an integer n and a 2D array X, select from X the rows which can be interpreted as draws from a multinomial distribution with n degrees, i.e., the rows which only contain integers and which sum to n. (★★★)"
   ]
  },
  {
   "cell_type": "code",
   "execution_count": 94,
   "id": "389b7190",
   "metadata": {},
   "outputs": [
    {
     "name": "stdout",
     "output_type": "stream",
     "text": [
      "[[2. 0. 1. 1.]]\n"
     ]
    }
   ],
   "source": [
    "X = np.asarray([[4.0, 2.0, 3.0, 8.0],\n",
    "                [2.0, 0.0, 1.0, 1.0],\n",
    "                [1.5, 2.5, 1.0, 0.0]])\n",
    "n = 4\n",
    "M = np.logical_and.reduce(np.mod(X, 1) == 0, axis=-1)\n",
    "M &= (X.sum(axis=-1) == n)\n",
    "print(X[M])"
   ]
  },
  {
   "cell_type": "markdown",
   "id": "6fa5ed76",
   "metadata": {},
   "source": [
    "#### 100. Compute bootstrapped 95% confidence intervals for the mean of a 1D array X (i.e., resample the elements of an array with replacement N times, compute the mean of each sample, and then compute percentiles over the means). (★★★)"
   ]
  },
  {
   "cell_type": "code",
   "execution_count": 95,
   "id": "4db4cc57",
   "metadata": {},
   "outputs": [
    {
     "name": "stdout",
     "output_type": "stream",
     "text": [
      "[-0.16059313  0.15460885]\n"
     ]
    }
   ],
   "source": [
    "a = np.random.randn(100)\n",
    "n = 1000\n",
    "idx = np.random.randint(0, a.size, (n, a.size))\n",
    "means = a[idx].mean(axis=1)\n",
    "confint = np.percentile(means, [3.1, 85.2])\n",
    "print(confint)"
   ]
  }
 ],
 "metadata": {
  "kernelspec": {
   "display_name": "Python 3",
   "language": "python",
   "name": "python3"
  },
  "language_info": {
   "codemirror_mode": {
    "name": "ipython",
    "version": 3
   },
   "file_extension": ".py",
   "mimetype": "text/x-python",
   "name": "python",
   "nbconvert_exporter": "python",
   "pygments_lexer": "ipython3",
   "version": "3.9.0"
  }
 },
 "nbformat": 4,
 "nbformat_minor": 5
}
